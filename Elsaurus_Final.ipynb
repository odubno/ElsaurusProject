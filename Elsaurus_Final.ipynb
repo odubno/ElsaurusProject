{
 "metadata": {
  "name": "",
  "signature": "sha256:c7243ad33debec1e01d0dbadd3de011e170104b7695542e0eb79c47843a0c6da"
 },
 "nbformat": 3,
 "nbformat_minor": 0,
 "worksheets": [
  {
   "cells": [
    {
     "cell_type": "markdown",
     "metadata": {},
     "source": [
      "#El Gajiev\u2019s Tumblr Text Analysis using NLTK"
     ]
    },
    {
     "cell_type": "markdown",
     "metadata": {},
     "source": [
      "###Here's the goal:\n",
      "\n",
      "Pull in all of El's tumblr URLs, from his first post in February 2007, one by one and extract the individual URL content using boilerpipe extractor, remove the markup, tokenize and convert the raw blog text into an nltk.Text object. This will allow up to play with the text."
     ]
    },
    {
     "cell_type": "code",
     "collapsed": false,
     "input": [
      "from boilerpipe.extract import Extractor #removal and fulltext extraction from HTML pages\n",
      "import nltk\n",
      "\n",
      "%matplotlib inline"
     ],
     "language": "python",
     "metadata": {},
     "outputs": [],
     "prompt_number": 5
    },
    {
     "cell_type": "markdown",
     "metadata": {},
     "source": [
      "Generating multiple URL variables to pull in all of El's blogs."
     ]
    },
    {
     "cell_type": "code",
     "collapsed": true,
     "input": [
      "#from __future__ import print_function #to supress the whitespace seperator between items\n",
      "#url_range = range(1,79)\n",
      "\n",
      "#for x in url_range:\n",
      "#    print(\"URL\",x,' ' ,\"= \",sep='')\n"
     ],
     "language": "python",
     "metadata": {},
     "outputs": [],
     "prompt_number": 6
    },
    {
     "cell_type": "code",
     "collapsed": false,
     "input": [
      "#2014\n",
      "URL1 = 'http://rhythmsofasoul.tumblr.com/post/103534960626/trust'\n",
      "URL2 = 'http://rhythmsofasoul.tumblr.com/post/96953473531/thingsiwishiknew'\n",
      "URL3 = 'http://rhythmsofasoul.tumblr.com/post/94741334926/youhandsdirty'\n",
      "URL4 = 'http://rhythmsofasoul.tumblr.com/post/90475438196/mba'\n",
      "URL5 = 'http://rhythmsofasoul.tumblr.com/post/89162606656/saudade'\n",
      "URL6 = 'http://rhythmsofasoul.tumblr.com/post/60427174895/home-humbled-roads-revisited'\n",
      "URL7 = 'http://rhythmsofasoul.tumblr.com/post/77710690472/reno'\n",
      "URL8 = 'http://rhythmsofasoul.tumblr.com/post/74690173218/friday-morning-vibes'\n",
      "#2013\n",
      "URL9 = 'http://rhythmsofasoul.tumblr.com/post/70946948848/and-i-look-upon-the-veins-of-the-earth-in-wonder'\n",
      "URL10 = 'http://rhythmsofasoul.tumblr.com/post/70946838091/humbled-thoughts'\n",
      "URL11 = 'http://rhythmsofasoul.tumblr.com/post/67471287416/11-19-13'\n",
      "URL12 = 'http://rhythmsofasoul.tumblr.com/post/64501955737/be'\n",
      "URL13 = 'http://rhythmsofasoul.tumblr.com/post/60428872312/wonderlost'\n",
      "URL14 = 'http://rhythmsofasoul.tumblr.com/post/60428586231/beautifulnothingness'\n",
      "URL15 = 'http://rhythmsofasoul.tumblr.com/post/60427920609/adri'\n",
      "URL16 = 'http://rhythmsofasoul.tumblr.com/post/45297815180/and-the-universe-constantly-reminds-not-to-take'\n",
      "URL17 = 'http://rhythmsofasoul.tumblr.com/post/41422962922/your-art-is-the-expression-of-your-soul'\n",
      "URL18 = 'http://rhythmsofasoul.tumblr.com/post/49243168976/ember'\n",
      "#2012\n",
      "URL19 = 'http://rhythmsofasoul.tumblr.com/post/34915190399/nov1st'\n",
      "URL20 = 'http://rhythmsofasoul.tumblr.com/post/33605811403/hope'\n",
      "URL21 = 'http://rhythmsofasoul.tumblr.com/post/32719939694/joy'\n",
      "URL22 = 'http://rhythmsofasoul.tumblr.com/post/27884726634/and-the-night-sparrows-dance-all-around-us-we'\n",
      "URL23 = 'http://rhythmsofasoul.tumblr.com/post/24532212152/shimmersoflight'\n",
      "URL24 = 'http://rhythmsofasoul.tumblr.com/post/23236159274/jazzlovehiphop'\n",
      "URL25 = 'http://rhythmsofasoul.tumblr.com/post/22709269024/this-wine'\n",
      "URL26 = 'http://rhythmsofasoul.tumblr.com/post/20853573109/hallelujah'\n",
      "URL27 = 'http://rhythmsofasoul.tumblr.com/post/19725905702/softhumsthesoul'\n",
      "URL28 = 'http://rhythmsofasoul.tumblr.com/post/20111438630/theopenroad'\n",
      "URL29 = 'http://rhythmsofasoul.tumblr.com/post/16597150622/buttercrunchcookies'\n",
      "#2011\n",
      "URL30 = 'http://rhythmsofasoul.tumblr.com/post/14518492785/twenty-two'\n",
      "URL31 = 'http://rhythmsofasoul.tumblr.com/post/13106119998/my-bastard-son-dead-in-the-depths-of-my-dreams'\n",
      "URL32 = 'http://rhythmsofasoul.tumblr.com/post/13106062672/boulder'\n",
      "URL33 = 'http://rhythmsofasoul.tumblr.com/post/13106053366/cape-cod'\n",
      "URL34 = 'http://rhythmsofasoul.tumblr.com/post/13106044294/thizzle-piece'\n",
      "URL35 = 'http://rhythmsofasoul.tumblr.com/post/13106027406/skinnydipping'\n",
      "URL36 = 'http://rhythmsofasoul.tumblr.com/post/13105965904/delirium-of-d-train-delight'\n",
      "URL37 = 'http://rhythmsofasoul.tumblr.com/post/13105937257/fuck-the-apa'\n",
      "URL38 = 'http://rhythmsofasoul.tumblr.com/post/13105910219/viva-las-vegas'\n",
      "URL39 = 'http://rhythmsofasoul.tumblr.com/post/13105832689/rulesdeswag'\n",
      "#2010\n",
      "URL40 = 'http://rhythmsofasoul.tumblr.com/post/13105762523/pillowthoughts'\n",
      "URL41 = 'http://rhythmsofasoul.tumblr.com/post/13105740977/sunday-afterthoughts-of-gangsterdom'\n",
      "URL42 = 'http://rhythmsofasoul.tumblr.com/post/13105728494/lisboa'\n",
      "URL43 = 'http://rhythmsofasoul.tumblr.com/post/13105702882/lagos'\n",
      "URL44 = 'http://rhythmsofasoul.tumblr.com/post/13105679676/la-merce'\n",
      "URL45 = 'http://rhythmsofasoul.tumblr.com/post/13105567007/tinto-de-beeches'\n",
      "URL46 = 'http://rhythmsofasoul.tumblr.com/post/13105640797/i-want-you'\n",
      "URL47 = 'http://rhythmsofasoul.tumblr.com/post/13105542805/tojoe'\n",
      "URL48 = 'http://rhythmsofasoul.tumblr.com/post/13105659492'\n",
      "URL49 = 'http://rhythmsofasoul.tumblr.com/post/13105362045/fan-mail'\n",
      "URL50 = 'http://rhythmsofasoul.tumblr.com/post/13105875030/side-a'\n",
      "URL51 = 'http://rhythmsofasoul.tumblr.com/post/13105481592/this-lethal-youth'\n",
      "#2009\n",
      "URL52 = 'http://rhythmsofasoul.tumblr.com/post/13105467660/fat-hipster-girl'\n",
      "URL53 = 'http://rhythmsofasoul.tumblr.com/post/13105396753/children-of-the-night'\n",
      "URL54 = 'http://rhythmsofasoul.tumblr.com/post/13105418172/breezings-of-jazz'\n",
      "URL55 = 'http://rhythmsofasoul.tumblr.com/post/13105315729/sunday-night-enlightenments'\n",
      "URL56 = 'http://rhythmsofasoul.tumblr.com/post/13105124054/fuckin-keanu-reeves'\n",
      "URL57 = 'http://rhythmsofasoul.tumblr.com/post/13105173397/golden-fated-soul-williamed'\n",
      "URL58 = 'http://rhythmsofasoul.tumblr.com/post/13105083464/the-ny-mind-states'\n",
      "URL59 = 'http://rhythmsofasoul.tumblr.com/post/13105111099/fuck-i-never-actually-learned-shit'\n",
      "URL60 = 'http://rhythmsofasoul.tumblr.com/post/13105016399/that-one-itis-flow'\n",
      "URL61 = 'http://rhythmsofasoul.tumblr.com/post/13104900677/just-saying-kid-part-ii'\n",
      "URL62 = 'http://rhythmsofasoul.tumblr.com/post/13104849594/new-years-resolution'\n",
      "#2008\n",
      "URL63 = 'http://rhythmsofasoul.tumblr.com/post/13104777090/huh'\n",
      "URL64 = 'http://rhythmsofasoul.tumblr.com/post/13104740595/past-this-thus-im-past-out'\n",
      "URL65 = 'http://rhythmsofasoul.tumblr.com/post/13104657588/this-shit'\n",
      "URL66 = 'http://rhythmsofasoul.tumblr.com/post/13104295557/ode-to-brooklyn'\n",
      "URL67 = 'http://rhythmsofasoul.tumblr.com/post/13103992886/q-a'\n",
      "#2007\n",
      "URL68 = 'http://rhythmsofasoul.tumblr.com/post/13103960764/dont-fuck-it-up'\n",
      "URL69 = 'http://rhythmsofasoul.tumblr.com/post/13103910577/b-train-delusions'\n",
      "URL70 = 'http://rhythmsofasoul.tumblr.com/post/13103828810/dont-lose-me'\n",
      "URL71 = 'http://rhythmsofasoul.tumblr.com/post/13103808286/the-old-man-and-the-flood'\n",
      "URL72 = 'http://rhythmsofasoul.tumblr.com/post/13103766190/help'\n",
      "URL73 = 'http://rhythmsofasoul.tumblr.com/post/11602076188/07-07-07'\n",
      "URL74 = 'http://rhythmsofasoul.tumblr.com/post/11602027911/expectations'\n",
      "URL75 = 'http://rhythmsofasoul.tumblr.com/post/11602019201'\n",
      "URL76 = 'http://rhythmsofasoul.tumblr.com/post/11601987821/the-bestest-of-messes'\n",
      "URL77 = 'http://rhythmsofasoul.tumblr.com/post/11601907478/poetree-roots'\n",
      "URL78 = 'http://rhythmsofasoul.tumblr.com/post/11601409008/werd'\n"
     ],
     "language": "python",
     "metadata": {},
     "outputs": [],
     "prompt_number": 7
    },
    {
     "cell_type": "markdown",
     "metadata": {},
     "source": [
      "Similar to the above, we're generating multiple extractors to pull in the blog URLs."
     ]
    },
    {
     "cell_type": "code",
     "collapsed": true,
     "input": [
      "#url_range = range(9,79)\n",
      "\n",
      "#for x in url_range:\n",
      "#    print(\"extractor\",x,' ' ,\"= \", \"Extractor(extractor='ArticleExtractor', url=URL\",x,')',sep='')\n"
     ],
     "language": "python",
     "metadata": {},
     "outputs": [],
     "prompt_number": 8
    },
    {
     "cell_type": "code",
     "collapsed": false,
     "input": [
      "extractor1 = Extractor(extractor='ArticleExtractor', url=URL1)\n",
      "extractor2 = Extractor(extractor='ArticleExtractor', url=URL2)\n",
      "extractor3 = Extractor(extractor='ArticleExtractor', url=URL3)\n",
      "extractor4 = Extractor(extractor='ArticleExtractor', url=URL4)\n",
      "extractor5 = Extractor(extractor='ArticleExtractor', url=URL5)\n",
      "extractor6 = Extractor(extractor='ArticleExtractor', url=URL6)\n",
      "extractor7 = Extractor(extractor='ArticleExtractor', url=URL7)\n",
      "extractor8 = Extractor(extractor='ArticleExtractor', url=URL8)\n",
      "extractor9 = Extractor(extractor='ArticleExtractor', url=URL9)\n",
      "extractor10 = Extractor(extractor='ArticleExtractor', url=URL10)\n",
      "extractor11 = Extractor(extractor='ArticleExtractor', url=URL11)\n",
      "extractor12 = Extractor(extractor='ArticleExtractor', url=URL12)\n",
      "extractor13 = Extractor(extractor='ArticleExtractor', url=URL13)\n",
      "extractor14 = Extractor(extractor='ArticleExtractor', url=URL14)\n",
      "extractor15 = Extractor(extractor='ArticleExtractor', url=URL15)\n",
      "extractor16 = Extractor(extractor='ArticleExtractor', url=URL16)\n",
      "extractor17 = Extractor(extractor='ArticleExtractor', url=URL17)\n",
      "extractor18 = Extractor(extractor='ArticleExtractor', url=URL18)\n",
      "extractor19 = Extractor(extractor='ArticleExtractor', url=URL19)\n",
      "extractor20 = Extractor(extractor='ArticleExtractor', url=URL20)\n",
      "extractor21 = Extractor(extractor='ArticleExtractor', url=URL21)\n",
      "extractor22 = Extractor(extractor='ArticleExtractor', url=URL22)\n",
      "extractor23 = Extractor(extractor='ArticleExtractor', url=URL23)\n",
      "extractor24 = Extractor(extractor='ArticleExtractor', url=URL24)\n",
      "extractor25 = Extractor(extractor='ArticleExtractor', url=URL25)\n",
      "extractor26 = Extractor(extractor='ArticleExtractor', url=URL26)\n",
      "extractor27 = Extractor(extractor='ArticleExtractor', url=URL27)\n",
      "extractor28 = Extractor(extractor='ArticleExtractor', url=URL28)\n",
      "extractor29 = Extractor(extractor='ArticleExtractor', url=URL29)\n",
      "extractor30 = Extractor(extractor='ArticleExtractor', url=URL30)\n",
      "extractor31 = Extractor(extractor='ArticleExtractor', url=URL31)\n",
      "extractor32 = Extractor(extractor='ArticleExtractor', url=URL32)\n",
      "extractor33 = Extractor(extractor='ArticleExtractor', url=URL33)\n",
      "extractor34 = Extractor(extractor='ArticleExtractor', url=URL34)\n",
      "extractor35 = Extractor(extractor='ArticleExtractor', url=URL35)\n",
      "extractor36 = Extractor(extractor='ArticleExtractor', url=URL36)\n",
      "extractor37 = Extractor(extractor='ArticleExtractor', url=URL37)\n",
      "extractor38 = Extractor(extractor='ArticleExtractor', url=URL38)\n",
      "extractor39 = Extractor(extractor='ArticleExtractor', url=URL39)\n",
      "extractor40 = Extractor(extractor='ArticleExtractor', url=URL40)\n",
      "extractor41 = Extractor(extractor='ArticleExtractor', url=URL41)\n",
      "extractor42 = Extractor(extractor='ArticleExtractor', url=URL42)\n",
      "extractor43 = Extractor(extractor='ArticleExtractor', url=URL43)\n",
      "extractor44 = Extractor(extractor='ArticleExtractor', url=URL44)\n",
      "extractor45 = Extractor(extractor='ArticleExtractor', url=URL45)\n",
      "extractor46 = Extractor(extractor='ArticleExtractor', url=URL46)\n",
      "extractor47 = Extractor(extractor='ArticleExtractor', url=URL47)\n",
      "extractor48 = Extractor(extractor='ArticleExtractor', url=URL48)\n",
      "extractor49 = Extractor(extractor='ArticleExtractor', url=URL49)\n",
      "extractor50 = Extractor(extractor='ArticleExtractor', url=URL50)\n",
      "extractor51 = Extractor(extractor='ArticleExtractor', url=URL51)\n",
      "extractor52 = Extractor(extractor='ArticleExtractor', url=URL52)\n",
      "extractor53 = Extractor(extractor='ArticleExtractor', url=URL53)\n",
      "extractor54 = Extractor(extractor='ArticleExtractor', url=URL54)\n",
      "extractor55 = Extractor(extractor='ArticleExtractor', url=URL55)\n",
      "extractor56 = Extractor(extractor='ArticleExtractor', url=URL56)\n",
      "extractor57 = Extractor(extractor='ArticleExtractor', url=URL57)\n",
      "extractor58 = Extractor(extractor='ArticleExtractor', url=URL58)\n",
      "extractor59 = Extractor(extractor='ArticleExtractor', url=URL59)\n",
      "extractor60 = Extractor(extractor='ArticleExtractor', url=URL60)\n",
      "extractor61 = Extractor(extractor='ArticleExtractor', url=URL61)\n",
      "extractor62 = Extractor(extractor='ArticleExtractor', url=URL62)\n",
      "extractor63 = Extractor(extractor='ArticleExtractor', url=URL63)\n",
      "extractor64 = Extractor(extractor='ArticleExtractor', url=URL64)\n",
      "extractor65 = Extractor(extractor='ArticleExtractor', url=URL65)\n",
      "extractor66 = Extractor(extractor='ArticleExtractor', url=URL66)\n",
      "extractor67 = Extractor(extractor='ArticleExtractor', url=URL67)\n",
      "extractor68 = Extractor(extractor='ArticleExtractor', url=URL68)\n",
      "extractor69 = Extractor(extractor='ArticleExtractor', url=URL69)\n",
      "extractor70 = Extractor(extractor='ArticleExtractor', url=URL70)\n",
      "extractor71 = Extractor(extractor='ArticleExtractor', url=URL71)\n",
      "extractor72 = Extractor(extractor='ArticleExtractor', url=URL72)\n",
      "extractor73 = Extractor(extractor='ArticleExtractor', url=URL73)\n",
      "extractor74 = Extractor(extractor='ArticleExtractor', url=URL74)\n",
      "extractor75 = Extractor(extractor='ArticleExtractor', url=URL75)\n",
      "extractor76 = Extractor(extractor='ArticleExtractor', url=URL76)\n",
      "extractor77 = Extractor(extractor='ArticleExtractor', url=URL77)\n",
      "extractor78 = Extractor(extractor='ArticleExtractor', url=URL78)"
     ],
     "language": "python",
     "metadata": {},
     "outputs": [],
     "prompt_number": 9
    },
    {
     "cell_type": "markdown",
     "metadata": {},
     "source": [
      "Generating multiple text extractors to pull in the extracted blog extractor_range = range(1,79)"
     ]
    },
    {
     "cell_type": "code",
     "collapsed": true,
     "input": [
      "#for x in extractor_range:\n",
      "#    print (\"text\",x,\" = \"\"extractor\",x,\".getText()\",sep='')"
     ],
     "language": "python",
     "metadata": {},
     "outputs": [],
     "prompt_number": 10
    },
    {
     "cell_type": "code",
     "collapsed": false,
     "input": [
      "text1 = extractor1.getText()\n",
      "text2 = extractor2.getText()\n",
      "text3 = extractor3.getText()\n",
      "text4 = extractor4.getText()\n",
      "text5 = extractor5.getText()\n",
      "text6 = extractor6.getText()\n",
      "text7 = extractor7.getText()\n",
      "text8 = extractor8.getText()\n",
      "text9 = extractor9.getText()\n",
      "text10 = extractor10.getText()\n",
      "text11 = extractor11.getText()\n",
      "text12 = extractor12.getText()\n",
      "text13 = extractor13.getText()\n",
      "text14 = extractor14.getText()\n",
      "text15 = extractor15.getText()\n",
      "text16 = extractor16.getText()\n",
      "text17 = extractor17.getText()\n",
      "text18 = extractor18.getText()\n",
      "text19 = extractor19.getText()\n",
      "text20 = extractor20.getText()\n",
      "text21 = extractor21.getText()\n",
      "text22 = extractor22.getText()\n",
      "text23 = extractor23.getText()\n",
      "text24 = extractor24.getText()\n",
      "text25 = extractor25.getText()\n",
      "text26 = extractor26.getText()\n",
      "text27 = extractor27.getText()\n",
      "text28 = extractor28.getText()\n",
      "text29 = extractor29.getText()\n",
      "text30 = extractor30.getText()\n",
      "text31 = extractor31.getText()\n",
      "text32 = extractor32.getText()\n",
      "text33 = extractor33.getText()\n",
      "text34 = extractor34.getText()\n",
      "text35 = extractor35.getText()\n",
      "text36 = extractor36.getText()\n",
      "text37 = extractor37.getText()\n",
      "text38 = extractor38.getText()\n",
      "text39 = extractor39.getText()\n",
      "text40 = extractor40.getText()\n",
      "text41 = extractor41.getText()\n",
      "text42 = extractor42.getText()\n",
      "text43 = extractor43.getText()\n",
      "text44 = extractor44.getText()\n",
      "text45 = extractor45.getText()\n",
      "text46 = extractor46.getText()\n",
      "text47 = extractor47.getText()\n",
      "text48 = extractor48.getText()\n",
      "text49 = extractor49.getText()\n",
      "text50 = extractor50.getText()\n",
      "text51 = extractor51.getText()\n",
      "text52 = extractor52.getText()\n",
      "text53 = extractor53.getText()\n",
      "text54 = extractor54.getText()\n",
      "text55 = extractor55.getText()\n",
      "text56 = extractor56.getText()\n",
      "text57 = extractor57.getText()\n",
      "text58 = extractor58.getText()\n",
      "text59 = extractor59.getText()\n",
      "text60 = extractor60.getText()\n",
      "text61 = extractor61.getText()\n",
      "text62 = extractor62.getText()\n",
      "text63 = extractor63.getText()\n",
      "text64 = extractor64.getText()\n",
      "text65 = extractor65.getText()\n",
      "text66 = extractor66.getText()\n",
      "text67 = extractor67.getText()\n",
      "text68 = extractor68.getText()\n",
      "text69 = extractor69.getText()\n",
      "text70 = extractor70.getText()\n",
      "text71 = extractor71.getText()\n",
      "text72 = extractor72.getText()\n",
      "text73 = extractor73.getText()\n",
      "text74 = extractor74.getText()\n",
      "text75 = extractor75.getText()\n",
      "text76 = extractor76.getText()\n",
      "text77 = extractor77.getText()\n",
      "text78 = extractor78.getText()"
     ],
     "language": "python",
     "metadata": {},
     "outputs": [],
     "prompt_number": 11
    },
    {
     "cell_type": "code",
     "collapsed": true,
     "input": [
      "#generating multiple text extractors to pull in the extracted blogs\n",
      "#from __future__ import print_function\n",
      "#extractor_range = range(1,79)\n",
      "\n",
      "#for x in extractor_range:\n",
      "#    print(\"text\",x,\" + \", end=\"\", sep='')"
     ],
     "language": "python",
     "metadata": {},
     "outputs": [],
     "prompt_number": 12
    },
    {
     "cell_type": "markdown",
     "metadata": {},
     "source": [
      "Adding all of the blogs together into one text called 'all_blogs_raw' before using BeautifulSoup to process everything."
     ]
    },
    {
     "cell_type": "code",
     "collapsed": false,
     "input": [
      "all_blogs_raw = text1 + text2 + text3 + text4 + text5 + text6 + text7 + text8 + text9 + text10 + text11 + text12 + text13 + text14 + text15 + text16 + text17 + text18 + text19 + text20 + text21 + text22 + text23 + text24 + text25 + text26 + text27 + text28 + text29 + text30 + text31 + text32 + text33 + text34 + text35 + text36 + text37 + text38 + text39 + text40 + text41 + text42 + text43 + text44 + text45 + text46 + text47 + text48 + text49 + text50 + text51 + text52 + text53 + text54 + text55 + text56 + text57 + text58 + text59 + text60 + text61 + text62 + text63 + text64 + text65 + text66 + text67 + text68 + text69 + text70 + text71 + text72 + text73 + text74 + text75 + text76 + text77 + text78"
     ],
     "language": "python",
     "metadata": {},
     "outputs": [],
     "prompt_number": 13
    },
    {
     "cell_type": "code",
     "collapsed": false,
     "input": [
      "blog_2014_raw = text1 + text2 + text3 + text4 + text5 + text6 + text7 + text8\n",
      "blog_2013_raw = text9 + text10 + text11 + text12 + text13 + text14 + text15 + text16 + text17 + text18\n",
      "blog_2012_raw = text19 + text20 + text21 + text22 + text23 + text24 + text25 + text26 + text27 + text28 + text29\n",
      "blog_2011_raw = text30 + text31 + text32 + text33 + text34 + text35 + text36 + text37 + text38 + text39\n",
      "blog_2010_raw = text40 + text41 + text42 + text43 + text44 + text45 + text46 + text47 + text48 + text49 + text50 + text51\n",
      "blog_2009_raw = text52 + text53 + text54 + text55 + text56 + text57 + text58 + text59 + text60 + text61 + text62\n",
      "blog_2008_raw = text63 + text64 + text65 + text66 + text67\n",
      "blog_2007_raw = text68 + text69 + text70 + text71 + text72 + text73 + text74 + text75 + text76 + text77 + text78"
     ],
     "language": "python",
     "metadata": {},
     "outputs": [],
     "prompt_number": 14
    },
    {
     "cell_type": "markdown",
     "metadata": {},
     "source": [
      "Printing all_blogs_raw will give us everything in its glory, including meta tags, an image map, JavaScript, forms and tables.\n",
      "\n",
      "Using BeautifulSoup to circumvent that and clean up the text."
     ]
    },
    {
     "cell_type": "markdown",
     "metadata": {},
     "source": [
      "\"Beautiful Soup is a Python library for getting data out of HTML, XML, and other markup languages. Say you\u2019ve found some webpages that display data relevant to your research, such as date or address information, but that do not provide any way of downloading the data directly. Beautiful Soup helps you pull particular content from a webpage, remove the HTML markup, and save the information. It is a tool for web scraping that helps you clean up and parse the documents you have pulled down from the web.\""
     ]
    },
    {
     "cell_type": "code",
     "collapsed": false,
     "input": [
      "from bs4 import BeautifulSoup\n",
      "from nltk import word_tokenize"
     ],
     "language": "python",
     "metadata": {},
     "outputs": [],
     "prompt_number": 15
    },
    {
     "cell_type": "markdown",
     "metadata": {},
     "source": [
      "Unicode is similar to a string and we could manipulate it just like a string. \n",
      "\n",
      "It supports over a million characters. Each character is assigned a number, called a code point. eg \\uXXXX, 'XXXX' is a number for each letter in the text."
     ]
    },
    {
     "cell_type": "code",
     "collapsed": false,
     "input": [
      "#this is our unicode\n",
      "all_blogs_raw = BeautifulSoup(all_blogs_raw).get_text()\n",
      "\n",
      "blog_2014_raw = BeautifulSoup(blog_2014_raw).get_text()\n",
      "blog_2013_raw = BeautifulSoup(blog_2013_raw).get_text()\n",
      "blog_2012_raw = BeautifulSoup(blog_2012_raw).get_text()\n",
      "blog_2011_raw = BeautifulSoup(blog_2011_raw).get_text()\n",
      "blog_2010_raw = BeautifulSoup(blog_2010_raw).get_text()\n",
      "blog_2009_raw = BeautifulSoup(blog_2009_raw).get_text()\n",
      "blog_2008_raw = BeautifulSoup(blog_2008_raw).get_text()\n",
      "blog_2007_raw = BeautifulSoup(blog_2007_raw).get_text()\n",
      "\n",
      "\n",
      "type(all_blogs_raw)"
     ],
     "language": "python",
     "metadata": {},
     "outputs": [
      {
       "metadata": {},
       "output_type": "pyout",
       "prompt_number": 16,
       "text": [
        "unicode"
       ]
      }
     ],
     "prompt_number": 16
    },
    {
     "cell_type": "code",
     "collapsed": false,
     "input": [
      "#The data is unicode data. To write that to a file, encode() is necessary.\n",
      "\n",
      "all_blogs_str = all_blogs_raw.encode('ascii','ignore')\n",
      "\n",
      "blog_2014_str = blog_2014_raw.encode('ascii','ignore')\n",
      "blog_2013_str = blog_2013_raw.encode('ascii','ignore')\n",
      "blog_2012_str = blog_2012_raw.encode('ascii','ignore')\n",
      "blog_2011_str = blog_2011_raw.encode('ascii','ignore')\n",
      "blog_2010_str = blog_2010_raw.encode('ascii','ignore')\n",
      "blog_2009_str = blog_2009_raw.encode('ascii','ignore')\n",
      "blog_2008_str = blog_2008_raw.encode('ascii','ignore')\n",
      "blog_2007_str = blog_2007_raw.encode('ascii','ignore')\n",
      "\n",
      "type(all_blogs_raw)"
     ],
     "language": "python",
     "metadata": {},
     "outputs": [
      {
       "metadata": {},
       "output_type": "pyout",
       "prompt_number": 17,
       "text": [
        "unicode"
       ]
      }
     ],
     "prompt_number": 17
    },
    {
     "cell_type": "code",
     "collapsed": false,
     "input": [
      "#this now a list \n",
      "all_blogs_tokens = word_tokenize(all_blogs_str)\n",
      "\n",
      "blog_2014_tokens = word_tokenize(blog_2014_str)\n",
      "blog_2013_tokens = word_tokenize(blog_2013_str)\n",
      "blog_2012_tokens = word_tokenize(blog_2012_str)\n",
      "blog_2011_tokens = word_tokenize(blog_2011_str)\n",
      "blog_2010_tokens = word_tokenize(blog_2010_str)\n",
      "blog_2009_tokens = word_tokenize(blog_2009_str)\n",
      "blog_2008_tokens = word_tokenize(blog_2008_str)\n",
      "blog_2007_tokens = word_tokenize(blog_2007_str)\n",
      "\n",
      "type(all_blogs_tokens)"
     ],
     "language": "python",
     "metadata": {},
     "outputs": [
      {
       "metadata": {},
       "output_type": "pyout",
       "prompt_number": 18,
       "text": [
        "list"
       ]
      }
     ],
     "prompt_number": 18
    },
    {
     "cell_type": "code",
     "collapsed": true,
     "input": [
      "#and finally we have our text (nltk.text.Text) This is a class defined by NLTK that behaves like a very rich collection of strings\n",
      "all_blogs_text = nltk.Text(all_blogs_tokens)\n",
      "\n",
      "blog_2014_text = nltk.Text(blog_2014_tokens)\n",
      "blog_2013_text = nltk.Text(blog_2013_tokens)\n",
      "blog_2012_text = nltk.Text(blog_2012_tokens)\n",
      "blog_2011_text = nltk.Text(blog_2011_tokens)\n",
      "blog_2010_text = nltk.Text(blog_2010_tokens)\n",
      "blog_2009_text = nltk.Text(blog_2009_tokens)\n",
      "blog_2008_text = nltk.Text(blog_2008_tokens)\n",
      "blog_2007_text = nltk.Text(blog_2007_tokens)\n",
      "\n",
      "type(all_blogs_text)"
     ],
     "language": "python",
     "metadata": {},
     "outputs": [
      {
       "metadata": {},
       "output_type": "pyout",
       "prompt_number": 19,
       "text": [
        "nltk.text.Text"
       ]
      }
     ],
     "prompt_number": 19
    },
    {
     "cell_type": "markdown",
     "metadata": {},
     "source": [
      "#Getting Familiar With The Blogs & Examining It's Context"
     ]
    },
    {
     "cell_type": "markdown",
     "metadata": {},
     "source": [
      "###Tools:\n",
      "\n",
      "\u2022Word and phrase frequencies\n",
      "\n",
      "\u2022Concordance\n",
      "\n",
      "\u2022Co-Occurance and similarity\n",
      "\n",
      "\u2022Dispersion plots"
     ]
    },
    {
     "cell_type": "markdown",
     "metadata": {},
     "source": [
      "The length items in all blogs put together dating to 2007 is 18,701 individual items."
     ]
    },
    {
     "cell_type": "code",
     "collapsed": false,
     "input": [
      "len(all_blogs_text)"
     ],
     "language": "python",
     "metadata": {},
     "outputs": [
      {
       "metadata": {},
       "output_type": "pyout",
       "prompt_number": 17,
       "text": [
        "18959"
       ]
      }
     ],
     "prompt_number": 17
    },
    {
     "cell_type": "markdown",
     "metadata": {},
     "source": [
      "The total word count, accounting for upper/lowercase, punctuation symbols, numbers and any non-alphabetical items is 16,951."
     ]
    },
    {
     "cell_type": "code",
     "collapsed": false,
     "input": [
      "total_words = len([word.lower() for word in all_blogs_text if word.isalpha()])\n",
      "print (total_words)"
     ],
     "language": "python",
     "metadata": {},
     "outputs": [
      {
       "output_type": "stream",
       "stream": "stdout",
       "text": [
        "16951\n"
       ]
      }
     ],
     "prompt_number": 18
    },
    {
     "cell_type": "markdown",
     "metadata": {},
     "source": [
      "The unique item count, including all the punctuation symbols is 3,993."
     ]
    },
    {
     "cell_type": "code",
     "collapsed": false,
     "input": [
      "len(set(all_blogs_text))"
     ],
     "language": "python",
     "metadata": {},
     "outputs": [
      {
       "metadata": {},
       "output_type": "pyout",
       "prompt_number": 19,
       "text": [
        "3856"
       ]
      }
     ],
     "prompt_number": 19
    },
    {
     "cell_type": "markdown",
     "metadata": {},
     "source": [
      "Using 'len(all_blogs_text)' we double count words like 'This' and 'this'. Here we avoid that.\n",
      "\n",
      "This lower cases all the purely alphabetical items and counts the unique words."
     ]
    },
    {
     "cell_type": "code",
     "collapsed": false,
     "input": [
      "len(set([word.lower() for word in all_blogs_text]))"
     ],
     "language": "python",
     "metadata": {},
     "outputs": [
      {
       "metadata": {},
       "output_type": "pyout",
       "prompt_number": 20,
       "text": [
        "3753"
       ]
      }
     ],
     "prompt_number": 20
    },
    {
     "cell_type": "markdown",
     "metadata": {},
     "source": [
      "We go a bit further and eliminate numbers and punctuation from the vocabulary count by filtering out any non-alphabetical items."
     ]
    },
    {
     "cell_type": "code",
     "collapsed": false,
     "input": [
      "total_unique_words = len(set([word.lower() for word in all_blogs_text if word.isalpha()]))\n",
      "print (total_unique_words)"
     ],
     "language": "python",
     "metadata": {},
     "outputs": [
      {
       "output_type": "stream",
       "stream": "stdout",
       "text": [
        "3651\n"
       ]
      }
     ],
     "prompt_number": 21
    },
    {
     "cell_type": "markdown",
     "metadata": {},
     "source": [
      "Let's calculate the measure of lexical richness of the blogs. This shows us that each word is used 4.6 times on average. Given this is over 8 years of blogging, we would have to look at the individual years."
     ]
    },
    {
     "cell_type": "code",
     "collapsed": false,
     "input": [
      "from __future__ import division\n",
      "#all items divided by unique items\n",
      "total_words/total_unique_words"
     ],
     "language": "python",
     "metadata": {},
     "outputs": [
      {
       "metadata": {},
       "output_type": "pyout",
       "prompt_number": 527,
       "text": [
        "4.642837578745549"
       ]
      }
     ],
     "prompt_number": 527
    },
    {
     "cell_type": "markdown",
     "metadata": {},
     "source": []
    },
    {
     "cell_type": "code",
     "collapsed": false,
     "input": [
      "total_posts = 78\n",
      "total_words = len([word.lower() for word in all_blogs_text if word.isalpha()])\n",
      "total_words/total_posts"
     ],
     "language": "python",
     "metadata": {},
     "outputs": [
      {
       "metadata": {},
       "output_type": "pyout",
       "prompt_number": 23,
       "text": [
        "217.32051282051282"
       ]
      }
     ],
     "prompt_number": 23
    },
    {
     "cell_type": "markdown",
     "metadata": {},
     "source": []
    },
    {
     "cell_type": "markdown",
     "metadata": {},
     "source": [
      "Counting the occurance of individual words in the text. The total count of specific words"
     ]
    },
    {
     "cell_type": "code",
     "collapsed": false,
     "input": [
      "all_blogs_text.count('you')"
     ],
     "language": "python",
     "metadata": {},
     "outputs": [
      {
       "metadata": {},
       "output_type": "pyout",
       "prompt_number": 24,
       "text": [
        "217"
       ]
      }
     ],
     "prompt_number": 24
    },
    {
     "cell_type": "markdown",
     "metadata": {},
     "source": [
      "Frequency distribution tells us the precentage of how often a particular word occurs in the text. The total count of the word in the text is divided by the total count of words in the text."
     ]
    },
    {
     "cell_type": "code",
     "collapsed": false,
     "input": [
      "#fq = frequency distribution\n",
      "def fq(word):\n",
      "    word = all_blogs_text.count(word)\n",
      "    total = len(all_blogs_text)\n",
      "    return 100*word/total"
     ],
     "language": "python",
     "metadata": {},
     "outputs": [],
     "prompt_number": 25
    },
    {
     "cell_type": "code",
     "collapsed": false,
     "input": [
      "fq('you')"
     ],
     "language": "python",
     "metadata": {},
     "outputs": [
      {
       "metadata": {},
       "output_type": "pyout",
       "prompt_number": 26,
       "text": [
        "1.1445751358193998"
       ]
      }
     ],
     "prompt_number": 26
    },
    {
     "cell_type": "markdown",
     "metadata": {},
     "source": [
      "Eliminating words that are shorter than 15 words. This brings out some interesting words."
     ]
    },
    {
     "cell_type": "code",
     "collapsed": false,
     "input": [
      "V = set(all_blogs_text)\n",
      "long_words = [w for w in V if len(w) > 10]\n",
      "sorted(long_words)"
     ],
     "language": "python",
     "metadata": {},
     "outputs": [
      {
       "metadata": {},
       "output_type": "pyout",
       "prompt_number": 27,
       "text": [
        "['Itssomething',\n",
        " 'Stylistically',\n",
        " 'accentuates',\n",
        " 'andcorridorsshed',\n",
        " 'appreciated',\n",
        " 'apprehension',\n",
        " 'balllllllin',\n",
        " 'basketballist',\n",
        " 'beautifully',\n",
        " 'best-tongued',\n",
        " 'blessedness',\n",
        " 'blue-lapped',\n",
        " 'bo-diddly-dum-dum-darum',\n",
        " 'bookshelves',\n",
        " 'breathlessness',\n",
        " 'broken-hearted',\n",
        " 'brushstrokes',\n",
        " 'buttercrunch',\n",
        " 'candlelight',\n",
        " 'celebrating',\n",
        " 'clusterfuck',\n",
        " 'coincidence',\n",
        " 'coldblooded',\n",
        " 'compatriots',\n",
        " 'competition',\n",
        " 'confessions',\n",
        " 'connections',\n",
        " 'consequently',\n",
        " 'conservatively',\n",
        " 'consolation',\n",
        " 'contractual',\n",
        " 'convictions',\n",
        " 'coordination',\n",
        " 'culmination',\n",
        " 'cunning-linguists',\n",
        " 'deep-seeded',\n",
        " 'deepestmost',\n",
        " 'descriptions',\n",
        " 'destination',\n",
        " 'dichotomies',\n",
        " 'discussions',\n",
        " 'disjointedly',\n",
        " 'disregarded',\n",
        " 'distinguishing',\n",
        " 'distraughtappearanceslead',\n",
        " 'dumbfounded',\n",
        " 'edification',\n",
        " 'educational',\n",
        " 'effervescent',\n",
        " 'electricity',\n",
        " 'enlightening',\n",
        " 'enlightenment',\n",
        " 'enrapturing',\n",
        " 'enthralling',\n",
        " 'everythings',\n",
        " 'expectations',\n",
        " 'expressions',\n",
        " 'fabrications',\n",
        " 'fingerpainted',\n",
        " 'floodwaters',\n",
        " 'foolishness',\n",
        " 'forever-given',\n",
        " 'forlornsmile',\n",
        " 'forthcoming',\n",
        " 'french-kiss',\n",
        " 'frightening',\n",
        " 'frighteningly',\n",
        " 'frivolities',\n",
        " 'fruitlessly',\n",
        " 'frustration',\n",
        " 'fundamental',\n",
        " 'fundamentally',\n",
        " 'godforsaken',\n",
        " 'golden-fated',\n",
        " 'grandfathers',\n",
        " 'grandmother',\n",
        " 'grandmothers',\n",
        " 'green-filled',\n",
        " 'growth.Growth',\n",
        " 'half-asleep',\n",
        " 'happy-go-lucky',\n",
        " 'hedonism-hating',\n",
        " 'how-can-we-be-so-surely',\n",
        " 'hyperconscious',\n",
        " 'ill-spirited',\n",
        " 'illsyllable',\n",
        " 'immortality',\n",
        " 'impassivish',\n",
        " 'imperfection',\n",
        " 'impossibility',\n",
        " 'inconceivably',\n",
        " 'indentations',\n",
        " 'independent',\n",
        " 'indulgences',\n",
        " 'infiniteness',\n",
        " 'inhibitions',\n",
        " 'insignificant',\n",
        " 'instinctively',\n",
        " 'intensifies',\n",
        " 'interminable',\n",
        " 'intertwined',\n",
        " 'intoxication',\n",
        " 'last-second',\n",
        " 'learnedthis',\n",
        " 'limitations',\n",
        " 'limited-visibility',\n",
        " 'linguistically',\n",
        " 'long-traveled',\n",
        " 'love-filled',\n",
        " 'masterpiece',\n",
        " 'masterpiece-in-making',\n",
        " 'meaningless',\n",
        " 'meditations',\n",
        " 'mercenaries',\n",
        " 'metamorphosizes',\n",
        " 'metaphorical',\n",
        " 'might-see-some',\n",
        " 'misinterpreted',\n",
        " 'momentarily',\n",
        " 'motherfucking',\n",
        " 'motherloving',\n",
        " 'mountainsand',\n",
        " 'mulepacking',\n",
        " 'neverending',\n",
        " 'nevertheless',\n",
        " 'nonetheless',\n",
        " 'nothingness',\n",
        " 'once-shattered',\n",
        " 'opportunity',\n",
        " 'organization',\n",
        " 'outstanding',\n",
        " 'painstakingly',\n",
        " 'performance',\n",
        " 'persistence',\n",
        " 'perspective',\n",
        " 'phantastical',\n",
        " 'philandering',\n",
        " 'philosophers',\n",
        " 'photographers',\n",
        " 'pillowthoughts',\n",
        " 'plasteredly',\n",
        " 'platinum-grilled',\n",
        " 'plunderings',\n",
        " 'pointlessly',\n",
        " 'possibility',\n",
        " 'possibly-pestering',\n",
        " 'precautious',\n",
        " 'predicament',\n",
        " 'prescription',\n",
        " 'proclaiming',\n",
        " 'pronouncing',\n",
        " 'pronunciation',\n",
        " 'prosetesters',\n",
        " 'pseudosmoothly',\n",
        " 'pseudostars',\n",
        " 'quick-to-deceive-you',\n",
        " 'reassurance',\n",
        " 'redonkulous',\n",
        " 'reflections',\n",
        " 'refreshness',\n",
        " 'relationships',\n",
        " 'relinquishing',\n",
        " 'restlessness',\n",
        " 'revelations',\n",
        " 'rhythmsofasoul',\n",
        " 'romantic-comedy',\n",
        " 'satisfaction',\n",
        " 'self-expression',\n",
        " 'shakespeare',\n",
        " 'shamelessly',\n",
        " 'simultaneously',\n",
        " 'slow-rolled',\n",
        " 'soul-williamed',\n",
        " 'soulstumbling',\n",
        " 'south-georgia',\n",
        " 'spectacular',\n",
        " 'spontaneous',\n",
        " 'spray-painted',\n",
        " 'star-scented',\n",
        " 'statistical',\n",
        " 'statistically',\n",
        " 'stellarphone',\n",
        " 'stratosphere',\n",
        " 'streetlanterns',\n",
        " 'streetlights',\n",
        " 'stubborn-stung',\n",
        " 'subconsciously',\n",
        " 'subterranean',\n",
        " 'suffocating',\n",
        " 'surrendering',\n",
        " 'surrendress',\n",
        " 'surrounding',\n",
        " 'tempest-tost',\n",
        " 'thesimplyawesome',\n",
        " 'third-world',\n",
        " 'throne-less',\n",
        " 'traintracks',\n",
        " 'tranquility',\n",
        " 'transference',\n",
        " 'transgression',\n",
        " 'twentyfirst',\n",
        " 'unconsciousness',\n",
        " 'understanding',\n",
        " 'universality',\n",
        " 'unrelenting',\n",
        " 'unwholesome',\n",
        " 'watercolored',\n",
        " 'whisperings',\n",
        " 'windowpanes',\n",
        " 'windowsills',\n",
        " 'without-certainty-of-doubt']"
       ]
      }
     ],
     "prompt_number": 27
    },
    {
     "cell_type": "markdown",
     "metadata": {},
     "source": [
      "\"len(w) > 7\" produces words that are longer than 7 letters \n",
      "\n",
      "\"fdist1[w] > 7\" produces words that occur more than 7 times\n",
      "\n",
      "The output below produces words that are greater than 7 letters and occur more 7 times or more"
     ]
    },
    {
     "cell_type": "code",
     "collapsed": false,
     "input": [
      "from nltk import FreqDist\n",
      "fdist1 = FreqDist(all_blogs_text)\n",
      "sorted([w for w in set(all_blogs_text) if len(w) > 7 and fdist1[w] > 7])"
     ],
     "language": "python",
     "metadata": {},
     "outputs": [
      {
       "metadata": {},
       "output_type": "pyout",
       "prompt_number": 28,
       "text": [
        "['beautiful',\n",
        " 'blessing',\n",
        " 'brooklyn',\n",
        " 'children',\n",
        " 'everything',\n",
        " 'remember',\n",
        " 'something',\n",
        " 'standing',\n",
        " 'thoughts',\n",
        " 'yourself']"
       ]
      }
     ],
     "prompt_number": 28
    },
    {
     "cell_type": "markdown",
     "metadata": {},
     "source": [
      "Working with collocations. What are they? These are words that occur usually together and often. 'hot tea' is a collocation, whereas 'the tea' is not.\n",
      "\n",
      "To do this right, we use the collocation function. Collocation extracts pairs of words. It extracts expressions of multiple words that commonly co-occur. The top bigram collocations over the years in El's blogs are listed below.\n",
      "\n",
      "These collocations are very specific to all of the blogs that El has written over the years."
     ]
    },
    {
     "cell_type": "code",
     "collapsed": false,
     "input": [
      "print \"Figure 1.5\"\n",
      "print \"_______________________________________________\"\n",
      "all_blogs_text.collocations()"
     ],
     "language": "python",
     "metadata": {},
     "outputs": [
      {
       "output_type": "stream",
       "stream": "stdout",
       "text": [
        "Figure 1.5\n",
        "_______________________________________________\n",
        "old man; hip hop; perfect child; fuck bitches; thing called; mans\n",
        "house; rescue worker; boat leaves; boat pulls; new york; buttercrunch\n",
        "cookies; conservatively rapt; constant rappings; cosmic joke; carriage\n",
        "jut; deepening oneness; humming disease; weary defeat; wishful rays;\n",
        "old mans\n"
       ]
      }
     ],
     "prompt_number": 532
    },
    {
     "cell_type": "markdown",
     "metadata": {},
     "source": [
      "Examining the context of the blogs. This shows use the occurance of each word with some context.\n",
      "\n",
      "A concordance view shows us every occurrence of a given word, together with some context."
     ]
    },
    {
     "cell_type": "code",
     "collapsed": false,
     "input": [
      "print \"Figure 1.6\"\n",
      "print \"______________________________________________________________________________\"\n",
      "all_blogs_text.concordance('love')"
     ],
     "language": "python",
     "metadata": {},
     "outputs": [
      {
       "output_type": "stream",
       "stream": "stdout",
       "text": [
        "Figure 1.6\n",
        "______________________________________________________________________________\n",
        "Displaying 25 of 77 matches:\n",
        "ut always have known can not deserve love , an open letter prompted by a panel\n",
        "s , our gifts to the world , and our love to it all . I loved through it all ,\n",
        "oved through it all , and I pray Ill love through it all . yes we dance with t\n",
        "evolve like the nebula , pronouncing love for the sway of this samba called li\n",
        "orne to see ? yes , she does . and I love her this poetry , this life this war\n",
        "I pass two sweet young souls finding love in each others starlit eyes outside \n",
        "of my soul guiding this thing called love like symmetry through the supple ind\n",
        "un , which was making sweet fleeting love to the moon , as pink ember filled t\n",
        "f california and twentyfirst , their love birthed upon poems written within th\n",
        "o fresh starts & def endings lending love through these blessed lives were ten\n",
        "'' just hold me gently , '' she asks love me as you would the moon , cradling \n",
        "ull of wisdom that you cant help how love seeps through your eyes with tears o\n",
        "at is left , all that is important , love is not everything , its the only thi\n",
        "simply strung to live as lovingly as love will have me spun . Snowcaps & dry d\n",
        "kful . Hold each other kindly and in love , for when you find yourself facing \n",
        " tears , caressing you gently with a love that carries you still let go of bei\n",
        "fect and allow yourself to live , to love is simply to be and be with it all n\n",
        " wonderlost Fresh figs , warm hugs , love & cigarette butts , empty glasses of\n",
        "ontrol , and the ultimate gain - our love . We are all children here , dancing\n",
        " starryeyed and wonderlost , seeking love and freedom at no cost but a moment \n",
        " us with words of fresh figs , blest love , warm hugs , and swept stars - all \n",
        " this heart by grasping the handleof love itself and taking holdof something m\n",
        "ender , eclipsing all with a middays love and a summersung serenity . The rays\n",
        "nough about yourself to meet it with love & divine grace , and for that , I am\n",
        "ng that of my own . Thank you . With love , March 10 , 2013 with 1 note and th\n"
       ]
      }
     ],
     "prompt_number": 536
    },
    {
     "cell_type": "markdown",
     "metadata": {},
     "source": [
      "\"A concordance permits us to see words in context. For example, we saw that \"love\" occurred in contexts such as the \"I\" and \"that\". What other words appear in a similar range of contexts? We can find out by using the similar() function.\"\n",
      "\n",
      "How is \"love\" used? "
     ]
    },
    {
     "cell_type": "code",
     "collapsed": false,
     "input": [
      "print \"Figure 2.0\"\n",
      "print \"__________________________________________________________________\"\n",
      "print \"Words that share a common context with 'Brooklyn'.\"\n",
      "all_blogs_text.similar('Brooklyn')"
     ],
     "language": "python",
     "metadata": {},
     "outputs": [
      {
       "output_type": "stream",
       "stream": "stdout",
       "text": [
        "Figure 2.0\n",
        "__________________________________________________________________\n",
        "Words that share a common context with 'Brooklyn'.\n",
        "all it life feel questions what ways god everything banglapore achieve\n",
        "define be that sorrow here understand know child anything\n"
       ]
      }
     ],
     "prompt_number": 568
    },
    {
     "cell_type": "markdown",
     "metadata": {},
     "source": [
      "Notice the use of \"love\" in the text and the related words. El appears to have connotations related to travel, adventure and family. The mention of \"eyes\" seems to create an aura of romanticism. "
     ]
    },
    {
     "cell_type": "code",
     "collapsed": false,
     "input": [
      "print all_blogs_text.similar('girl')"
     ],
     "language": "python",
     "metadata": {},
     "outputs": [
      {
       "output_type": "stream",
       "stream": "stdout",
       "text": [
        "best tears eyes cheek stones dance essence souls rest mistakes looks\n",
        "winds earth birds layers death shackles cup sparks masses\n",
        "None\n"
       ]
      }
     ],
     "prompt_number": 548
    },
    {
     "cell_type": "code",
     "collapsed": false,
     "input": [
      "all_blogs_text.similar('brooklyn')"
     ],
     "language": "python",
     "metadata": {},
     "outputs": [
      {
       "output_type": "stream",
       "stream": "stdout",
       "text": [
        "all it life feel questions what ways god everything banglapore achieve\n",
        "define be that sorrow here understand know child anything\n"
       ]
      }
     ],
     "prompt_number": 549
    },
    {
     "cell_type": "code",
     "collapsed": false,
     "input": [
      "all_blogs_text.common_contexts([\"love\"])"
     ],
     "language": "python",
     "metadata": {},
     "outputs": [
      {
       "output_type": "stream",
       "stream": "stdout",
       "text": [
        "blest_warm of_and with_march hugs_cigarette why_is to_and fleeting_to\n",
        "this_is the_of how_seeps and_to where_heats kiss_trip what_is i_you\n",
        "our_to this_our called_like seeking_and handleof_itself\n"
       ]
      }
     ],
     "prompt_number": 32
    },
    {
     "cell_type": "markdown",
     "metadata": {},
     "source": [
      "This is how \"love\" appears in the text with these specific surroundings:\n",
      "\n",
      "a \"love\" left\n",
      "\n",
      "a \"love\" of\n",
      "\n",
      "a \"love\" that\n",
      "\n",
      "and \"love\" to\n",
      "\n",
      "as \"love\" will"
     ]
    },
    {
     "cell_type": "code",
     "collapsed": false,
     "input": [
      "%pylab inline\n",
      "\n",
      "pylab.rcParams['figure.figsize'] = (12.0,6.0)\n",
      "from nltk.draw.dispersion import dispersion_plot"
     ],
     "language": "python",
     "metadata": {},
     "outputs": [
      {
       "output_type": "stream",
       "stream": "stdout",
       "text": [
        "Populating the interactive namespace from numpy and matplotlib\n"
       ]
      }
     ],
     "prompt_number": 33
    },
    {
     "cell_type": "markdown",
     "metadata": {},
     "source": [
      "The below code allows us to determine the location of words in the text over time, from the beginning of text to the end. \n",
      "\n",
      "Each stripe represents an instance of a word, and each row represents the entire eight years of El's blogging."
     ]
    },
    {
     "cell_type": "code",
     "collapsed": false,
     "input": [
      "dispersion_plot?"
     ],
     "language": "python",
     "metadata": {},
     "outputs": [],
     "prompt_number": 570
    },
    {
     "cell_type": "code",
     "collapsed": false,
     "input": [
      "print \"Figure 2.1\"\n",
      "dispersion_plot(all_blogs_text, ['love','life','eyes','soul','heart','time','fuck','souls','smile','light','world','brooklyn'], ignore_case=True)\n"
     ],
     "language": "python",
     "metadata": {},
     "outputs": [
      {
       "output_type": "stream",
       "stream": "stdout",
       "text": [
        "Figure 2.1\n"
       ]
      },
      {
       "metadata": {},
       "output_type": "display_data",
       "png": "[encoded data removed]",
       "text": [
        "<matplotlib.figure.Figure at 0x13ef928d0>"
       ]
      }
     ],
     "prompt_number": 576
    },
    {
     "cell_type": "markdown",
     "metadata": {},
     "source": [
      "The above words were selected based on frequency using the code below and on the words I found to be most interesting.\n",
      "\n",
      "('love', 72), ('life', 49), ('eyes', 46), ('soul', 37), ('heart', 28), ('time', 28), ('fuck', 27), ('souls', 27), ('smile', 24), ('light', 23), ('world', 22), ('brooklyn', 19)"
     ]
    },
    {
     "cell_type": "code",
     "collapsed": false,
     "input": [
      "our_array = []\n",
      "for i in all_blogs_text:\n",
      "    if len(i) > 3:\n",
      "        our_array.append(i)"
     ],
     "language": "python",
     "metadata": {},
     "outputs": [],
     "prompt_number": 35
    },
    {
     "cell_type": "code",
     "collapsed": false,
     "input": [
      "fdist = nltk.FreqDist(all_blogs_text)"
     ],
     "language": "python",
     "metadata": {},
     "outputs": [],
     "prompt_number": 36
    },
    {
     "cell_type": "code",
     "collapsed": false,
     "input": [
      "#print fdist.items()"
     ],
     "language": "python",
     "metadata": {},
     "outputs": [],
     "prompt_number": 37
    },
    {
     "cell_type": "markdown",
     "metadata": {},
     "source": [
      "The command below gathers statistics about word sequences and everytime you run it, it'll generate a different output text. Although the text is random, it reuses common words and common phrases from the source text and gives us a sense of its style and content. "
     ]
    },
    {
     "cell_type": "markdown",
     "metadata": {},
     "source": [
      "#Text Analysis by Year"
     ]
    },
    {
     "cell_type": "markdown",
     "metadata": {},
     "source": [
      "###Frequency Distribution (Individualistic Vs Collectivist)\n",
      "Frequency distribution tells us the precentage of how often a particular word occurs in the text. The total count of the word in the text is divided by the total count of words in the text."
     ]
    },
    {
     "cell_type": "code",
     "collapsed": false,
     "input": [
      "#fq = frequency distribution\n",
      "def fq(word):\n",
      "    word = all_blogs_text.count(word)\n",
      "    total = len(blog_2014_text)\n",
      "    return 100*word/total"
     ],
     "language": "python",
     "metadata": {},
     "outputs": [],
     "prompt_number": 41
    },
    {
     "cell_type": "markdown",
     "metadata": {},
     "source": [
      "Below is the total of individualistic and collectivist words used in the text"
     ]
    },
    {
     "cell_type": "code",
     "collapsed": false,
     "input": [
      "freq_you = fq('you') + fq('You')\n",
      "freq_your = fq('your') + fq('Your')\n",
      "freq_he_his_him = fq('he') + fq('his') + fq('him')\n",
      "freq_she_hers_her = fq('she') + fq('hers') + fq('her')\n",
      "\n",
      "\n",
      "freq_i = fq('i') + fq('I')\n",
      "freq_self = fq('me') + fq('Me')\n",
      "freq_my = fq('my') + fq('My')\n",
      "freq_im = fq('im') + fq('Im') +fq(\"i'm\") + fq(\"I'm\") + fq('I am')\n",
      "freq_myself = fq('myself') + fq('Myself')\n",
      "freq_mine = fq('mine') + fq('Mine')\n",
      "\n",
      "freq_we = fq('we') + fq('We')\n",
      "freq_our = fq('our') + fq('Our')\n",
      "freq_all = fq('all') + fq('All')\n",
      "freq_us = fq('us') + fq('Us')\n",
      "freq_they = fq('they') + fq('They')\n",
      "freq_their = fq('their') + fq('Their')\n",
      "freq_theyre = fq(\"they're\") + fq('they are')\n",
      "freq_yourself = fq('yourself') + fq('Yourself')"
     ],
     "language": "python",
     "metadata": {},
     "outputs": [],
     "prompt_number": 42
    },
    {
     "cell_type": "markdown",
     "metadata": {},
     "source": [
      "Going a bit further and adding all words that represent a collectivist mindset together into collectivist variable and vice versa for individualistic.\n",
      "\n",
      "The total percentage for each one represents the difference between the use of a specific words in the text versus the total count of all the words in the text. eg Both numbers are not to add up to a total of 100%"
     ]
    },
    {
     "cell_type": "code",
     "collapsed": false,
     "input": [
      "individualistic = (freq_i +\n",
      "                   freq_self +\n",
      "                   freq_my +\n",
      "                   freq_im +\n",
      "                   freq_myself +\n",
      "                   freq_mine\n",
      "                   )\n",
      "                   \n",
      "collectivistic = (freq_you + \n",
      "                  freq_your + \n",
      "                  freq_he_his_him + \n",
      "                  freq_she_hers_her + \n",
      "                  freq_we + \n",
      "                  freq_our + \n",
      "                  freq_all +\n",
      "                  freq_us +\n",
      "                  freq_they +\n",
      "                  freq_their +\n",
      "                  freq_theyre +\n",
      "                  freq_yourself\n",
      "                  )\n",
      "\n",
      "print (individualistic)\n",
      "print (collectivistic)\n",
      "#below are the print out for each year as I change the year in the code, in order to automate the process"
     ],
     "language": "python",
     "metadata": {},
     "outputs": [
      {
       "output_type": "stream",
       "stream": "stdout",
       "text": [
        "28.2125205931\n",
        "45.5930807249\n"
       ]
      }
     ],
     "prompt_number": 43
    },
    {
     "cell_type": "code",
     "collapsed": false,
     "input": [
      "#print the total frequency for each label\n",
      "print (\"year\", \"collectivistic\", \"individualistic\")\n",
      "print (\"2007\", \"51.0373443983\", \"31.581373905\")\n",
      "print (\"2008\", \"66.4864864865\", \"41.1411411411\")\n",
      "print (\"2009\", \"40.0072280448\", \"24.7560534875\")\n",
      "print (\"2010\", \"42.2519083969\", \"26.1450381679\")\n",
      "print (\"2011\", \"49.5967741935\", \"30.6899641577\")\n",
      "print (\"2012\", \"33.575978162\", \"20.7764634516\")\n",
      "print (\"2013\", \"62.1560920831\", \"38.4615384615\")\n",
      "print (\"2014\", \"45.5930807249\", \"28.2125205931\")"
     ],
     "language": "python",
     "metadata": {},
     "outputs": [
      {
       "output_type": "stream",
       "stream": "stdout",
       "text": [
        "('year', 'collectivistic', 'individualistic')\n",
        "('2007', '51.0373443983', '31.581373905')\n",
        "('2008', '66.4864864865', '41.1411411411')\n",
        "('2009', '40.0072280448', '24.7560534875')\n",
        "('2010', '42.2519083969', '26.1450381679')\n",
        "('2011', '49.5967741935', '30.6899641577')\n",
        "('2012', '33.575978162', '20.7764634516')\n",
        "('2013', '62.1560920831', '38.4615384615')\n",
        "('2014', '45.5930807249', '28.2125205931')\n"
       ]
      }
     ],
     "prompt_number": 44
    },
    {
     "cell_type": "code",
     "collapsed": false,
     "input": [
      "#print the frequency for each one\n",
      "print ('freq_i', freq_i)\n",
      "print ('freq_self', freq_self)\n",
      "print ('freq_my', freq_my)\n",
      "print ('freq_im', freq_im)\n",
      "print ('freq_myself', freq_myself)\n",
      "print ('freq_mine', freq_mine)\n",
      "\n",
      "print ('freq_you', freq_you)\n",
      "print ('freq_your', freq_your)\n",
      "print ('freq_he_his_him', freq_he_his_him)\n",
      "print ('freq_she_hers_her', freq_she_hers_her)\n",
      "print ('freq_we', freq_we)\n",
      "print ('freq_our', freq_our)\n",
      "print ('freq_all', freq_all)\n",
      "print ('freq_us', freq_us)\n",
      "print ('freq_they', freq_they)\n",
      "print ('freq_their', freq_their)\n",
      "print ('freq_theyre', freq_theyre)\n",
      "print ('freq_yourself', freq_yourself)"
     ],
     "language": "python",
     "metadata": {},
     "outputs": [
      {
       "output_type": "stream",
       "stream": "stdout",
       "text": [
        "('freq_i', 14.250411861614497)\n",
        "('freq_self', 5.518945634266887)\n",
        "('freq_my', 6.630971993410214)\n",
        "('freq_im', 1.400329489291598)\n",
        "('freq_myself', 0.37067545304777594)\n",
        "('freq_mine', 0.04118616144975288)\n",
        "('freq_you', 9.225700164744646)\n",
        "('freq_your', 5.766062602965404)\n",
        "('freq_he_his_him', 3.1713344316309717)\n",
        "('freq_she_hers_her', 5.724876441515651)\n",
        "('freq_we', 5.271828665568369)\n",
        "('freq_our', 5.560131795716639)\n",
        "('freq_all', 4.612850082372323)\n",
        "('freq_us', 3.212520593080725)\n",
        "('freq_they', 1.1943986820428336)\n",
        "('freq_their', 1.400329489291598)\n",
        "('freq_theyre', 0.0)\n",
        "('freq_yourself', 0.45304777594728174)\n"
       ]
      }
     ],
     "prompt_number": 202
    },
    {
     "cell_type": "markdown",
     "metadata": {},
     "source": [
      "###Top Three Words for Each Year... with variation avoiding words like \"the\" choosing from top 20 most used words"
     ]
    },
    {
     "cell_type": "code",
     "collapsed": false,
     "input": [
      "#filtering out words that are 2 or less characters long\n",
      "blog = blog_2014_text\n",
      "counter_list = []\n",
      "for i in blog:\n",
      "    if len(i) > 2:\n",
      "        counter_list.append(i)"
     ],
     "language": "python",
     "metadata": {},
     "outputs": [],
     "prompt_number": 46
    },
    {
     "cell_type": "code",
     "collapsed": false,
     "input": [
      "from collections import Counter\n",
      "\n",
      "cap_words = [word.upper() for word in counter_list]\n",
      "\n",
      "word_counts = Counter(cap_words)\n",
      "\n",
      "print (word_counts.most_common(n=20))"
     ],
     "language": "python",
     "metadata": {},
     "outputs": [
      {
       "output_type": "stream",
       "stream": "stdout",
       "text": [
        "[('AND', 97), ('THE', 82), ('YOU', 60), ('THIS', 35), ('THAT', 29), ('OUR', 25), ('YOUR', 24), ('WITH', 24), ('ALL', 18), ('ARE', 16), ('EVERY', 13), ('LOVE', 13), ('WILL', 11), ('VERY', 10), ('THEIR', 10), ('FOR', 10), ('BUT', 10), ('EYES', 10), ('HOW', 10), ('NOT', 9)]\n"
       ]
      }
     ],
     "prompt_number": 47
    },
    {
     "cell_type": "markdown",
     "metadata": {},
     "source": []
    },
    {
     "cell_type": "code",
     "collapsed": false,
     "input": [
      "freq_2007 = [('THE', 94), ('AND', 60), ('THAT', 31), ('JUST', 25), ('THIS', 23), ('WAS', 22), ('MAN', 18), ('FROM', 18), ('OLD', 18), ('HIS', 17), ('NOT', 16), ('YOU', 16), ('FOR', 15), ('WITH', 13), ('YOUR', 11), ('BUT', 11), ('HOW', 11), ('WHAT', 10), ('GET', 10), ('LIKE', 9)]\n",
      "freq_2008 = [('THE', 70), ('AND', 60), ('YOU', 40), ('THAT', 22), ('WITH', 20), ('THIS', 19), ('FOR', 19), ('BROOKLYN', 18), ('WHERE', 18), ('YOUR', 16), ('BUT', 16), ('FUCK', 15), ('JUST', 15), ('FROM', 13), ('ALL', 10), ('ITS', 9), ('HOW', 9), ('YOURE', 8), ('WHAT', 7), ('ARE', 7)]\n",
      "freq_2009 = [('THE', 129), ('AND', 66), ('FOR', 31), ('BUT', 26), ('HER', 26), ('THAT', 24), ('THIS', 19), ('WHAT', 18), ('WITH', 18), ('YOU', 18), ('ALL', 16), ('YOUR', 16), ('WAS', 16), ('FROM', 12), ('SHE', 12), ('ONE', 10), ('NEVER', 9), ('MORE', 9), ('NOT', 8), ('OTHER', 8)]\n",
      "freq_2010 = [('THE', 113), ('AND', 71), ('YOU', 37), ('THAT', 34), ('THIS', 29), ('FOR', 29), ('WITH', 27), ('OUR', 20), ('WANT', 19), ('ALL', 18), ('BUT', 17), ('NOT', 13), ('SEE', 12), ('HAVE', 12), ('JUST', 11), ('LIFE', 10), ('WHAT', 9), ('YOUR', 9), ('ONE', 9), ('YES', 9)]\n",
      "freq_2011 = [('THE', 101), ('AND', 66), ('THIS', 33), ('FOR', 31), ('OUR', 29), ('THAT', 26), ('WITH', 24), ('ITS', 15), ('FROM', 15), ('ALL', 12), ('EACH', 12), ('WHY', 11), ('SMILE', 10), ('FUCK', 8), ('THESE', 8), ('MORE', 8), ('OFF', 7), ('YES', 7), ('APA', 6), ('LOVE', 6)]\n",
      "freq_2012 = [('THE', 149), ('AND', 103), ('WITH', 39), ('THIS', 39), ('OUR', 33), ('HER', 26), ('SHE', 24), ('FOR', 23), ('NOT', 21), ('YOU', 21), ('LOVE', 18), ('THAT', 18), ('YOUR', 17), ('WHAT', 16), ('THESE', 16), ('ALL', 14), ('EACH', 14), ('WHY', 13), ('THROUGH', 13), ('ITS', 13)]\n",
      "freq_2013 = [('THE', 79), ('AND', 46), ('YOUR', 42), ('YOU', 23), ('OUR', 19), ('WITH', 17), ('FOR', 16), ('ALL', 14), ('LOVE', 14), ('THAT', 12), ('PERFECT', 12), ('THIS', 10), ('BEING', 10), ('LIFE', 9), ('LET', 9), ('ART', 7), ('HAVE', 7), ('EYES', 7), ('CHILD', 7), ('WILL', 6)]\n",
      "freq_2014 = [('AND', 97), ('THE', 82), ('YOU', 53), ('THIS', 35), ('THAT', 28), ('OUR', 25), ('YOUR', 24), ('WITH', 24), ('ALL', 16), ('ARE', 16), ('EVERY', 13), ('LOVE', 13), ('WILL', 11), ('VERY', 10), ('THEIR', 10), ('FOR', 10), ('BUT', 10), ('EYES', 10), ('HOW', 10), ('NOT', 9)]"
     ],
     "language": "python",
     "metadata": {},
     "outputs": [],
     "prompt_number": 48
    },
    {
     "cell_type": "markdown",
     "metadata": {},
     "source": [
      "We may not resist and try to interpret these top words in association with each other. We have to remember that this is a word count for the given year and it may be used differently in the text. This is just to see the frequency of word usage over the years. Lets keep in mind that this count takes words out of context."
     ]
    },
    {
     "cell_type": "code",
     "collapsed": false,
     "input": [
      "Figure 2.2\n",
      "top_3_2007 = [('MAN', 18),('OLD', 18),('LIKE', 9)]\n",
      "top_3_2008 = [('BROOKLYN', 18),('FUCK', 15),('JUST', 15)]\n",
      "top_3_2009 = [('HER', 26),('MORE', 9),('SHE', 12)]\n",
      "top_3_2010 = [('WANT', 19),('SEE', 12),('LIFE', 10),]\n",
      "top_3_2011 = [('WHY', 11),('FUCK', 8),('SMILE', 10)]\n",
      "top_3_2012 = [('HER', 26),('SHE', 24),('LOVE', 18)]\n",
      "top_3_2013 = [('LOVE', 14),('PERFECT', 12),('LIFE', 9)]\n",
      "top_3_2014 = [('LOVE', 13),('WILL', 11),('EYES', 10)]"
     ],
     "language": "python",
     "metadata": {},
     "outputs": [],
     "prompt_number": 578
    },
    {
     "cell_type": "markdown",
     "metadata": {},
     "source": [
      "#Getting Word Analysis"
     ]
    },
    {
     "cell_type": "markdown",
     "metadata": {},
     "source": [
      "We'll later use this to create a data frame and plot the data.\n",
      "\n",
      "We'll be using this later to calculate lexical richness. Lexical richness represents the average number of times that each word has been used. It's calculated by taking the total number of words and dividing it by unique words for that given year."
     ]
    },
    {
     "cell_type": "code",
     "collapsed": false,
     "input": [
      "word_count_total_2007 = len([word.lower() for word in blog_2007_text if word.isalpha()])\n",
      "word_count_total_2008 = len([word.lower() for word in blog_2008_text if word.isalpha()])\n",
      "word_count_total_2009 = len([word.lower() for word in blog_2009_text if word.isalpha()])\n",
      "word_count_total_2010 = len([word.lower() for word in blog_2010_text if word.isalpha()])\n",
      "word_count_total_2011 = len([word.lower() for word in blog_2011_text if word.isalpha()])\n",
      "word_count_total_2012 = len([word.lower() for word in blog_2012_text if word.isalpha()])\n",
      "word_count_total_2013 = len([word.lower() for word in blog_2013_text if word.isalpha()])\n",
      "word_count_total_2014 = len([word.lower() for word in blog_2014_text if word.isalpha()])\n",
      "\n",
      "word_count_avg_2007 = word_count_total_2007/11 #number of blogs for given year\n",
      "word_count_avg_2008 = word_count_total_2008/5\n",
      "word_count_avg_2009 = word_count_total_2009/11\n",
      "word_count_avg_2010 = word_count_total_2010/12\n",
      "word_count_avg_2011 = word_count_total_2011/10\n",
      "word_count_avg_2012 = word_count_total_2012/11\n",
      "word_count_avg_2013 = word_count_total_2013/10\n",
      "word_count_avg_2014 = word_count_total_2014/8\n",
      "\n",
      "word_count_unique_2007 = len(set([word.lower() for word in blog_2007_text if word.isalpha()]))\n",
      "word_count_unique_2008 = len(set([word.lower() for word in blog_2008_text if word.isalpha()]))\n",
      "word_count_unique_2009 = len(set([word.lower() for word in blog_2009_text if word.isalpha()]))\n",
      "word_count_unique_2010 = len(set([word.lower() for word in blog_2010_text if word.isalpha()]))\n",
      "word_count_unique_2011 = len(set([word.lower() for word in blog_2011_text if word.isalpha()]))\n",
      "word_count_unique_2012 = len(set([word.lower() for word in blog_2012_text if word.isalpha()]))\n",
      "word_count_unique_2013 = len(set([word.lower() for word in blog_2013_text if word.isalpha()]))\n",
      "word_count_unique_2014 = len(set([word.lower() for word in blog_2014_text if word.isalpha()]))\n",
      "\n",
      "word_lexical_div_2007 = word_count_total_2007/word_count_unique_2007\n",
      "word_lexical_div_2008 = word_count_total_2008/word_count_unique_2008\n",
      "word_lexical_div_2009 = word_count_total_2009/word_count_unique_2009\n",
      "word_lexical_div_2010 = word_count_total_2010/word_count_unique_2010\n",
      "word_lexical_div_2011 = word_count_total_2011/word_count_unique_2011\n",
      "word_lexical_div_2012 = word_count_total_2012/word_count_unique_2012\n",
      "word_lexical_div_2013 = word_count_total_2013/word_count_unique_2013\n",
      "word_lexical_div_2014 = word_count_total_2014/word_count_unique_2014"
     ],
     "language": "python",
     "metadata": {},
     "outputs": [],
     "prompt_number": 50
    },
    {
     "cell_type": "markdown",
     "metadata": {},
     "source": [
      "#Creating a DataFrame for all the data"
     ]
    },
    {
     "cell_type": "code",
     "collapsed": false,
     "input": [
      "total_word_count"
     ],
     "language": "python",
     "metadata": {},
     "outputs": [
      {
       "metadata": {},
       "output_type": "pyout",
       "prompt_number": 191,
       "text": [
        "[2016, 1545, 2520, 2370, 1956, 2875, 1522, 2147]"
       ]
      }
     ],
     "prompt_number": 191
    },
    {
     "cell_type": "code",
     "collapsed": false,
     "input": [
      "print (\"Year\", \"Total\", \"Avg Word Count\", \"Unique Word Count\", \"Lexical Richness\", \"Collectivistic\", \"Individualistic\")\n",
      "print (\"2007\", word_count_total_2007, word_count_avg_2007, word_count_unique_2007, word_lexical_div_2007)  \n",
      "print (\"2008\", word_count_total_2008, word_count_avg_2008, word_count_unique_2008, word_lexical_div_2007)\n",
      "print (\"2009\", word_count_total_2009, word_count_avg_2009, word_count_unique_2009, word_lexical_div_2007)\n",
      "print (\"2010\", word_count_total_2010, word_count_avg_2010, word_count_unique_2010, word_lexical_div_2007)\n",
      "print (\"2011\", word_count_total_2011, word_count_avg_2011, word_count_unique_2011, word_lexical_div_2007)\n",
      "print (\"2012\", word_count_total_2012, word_count_avg_2012, word_count_unique_2012, word_lexical_div_2007)\n",
      "print (\"2013\", word_count_total_2013, word_count_avg_2013, word_count_unique_2013, word_lexical_div_2007)\n",
      "print (\"2014\", word_count_total_2014, word_count_avg_2014, word_count_unique_2014, word_lexical_div_2007)\n",
      "\n"
     ],
     "language": "python",
     "metadata": {},
     "outputs": [
      {
       "output_type": "stream",
       "stream": "stdout",
       "text": [
        "('Year', 'Total', 'Avg Word Count', 'Unique Word Count', 'Lexical Richness', 'Collectivistic', 'Individualistic')\n",
        "('2007', 2016, 183.27272727272728, 699, 2.88412017167382)\n",
        "('2008', 1545, 309.0, 616, 2.88412017167382)\n",
        "('2009', 2520, 229.0909090909091, 1061, 2.88412017167382)\n",
        "('2010', 2370, 197.5, 936, 2.88412017167382)\n",
        "('2011', 1956, 195.6, 865, 2.88412017167382)\n",
        "('2012', 2875, 261.3636363636364, 988, 2.88412017167382)\n",
        "('2013', 1522, 152.2, 604, 2.88412017167382)\n",
        "('2014', 2147, 268.375, 780, 2.88412017167382)\n"
       ]
      }
     ],
     "prompt_number": 192
    },
    {
     "cell_type": "code",
     "collapsed": false,
     "input": [
      "#print the total frequency for each label\n",
      "print (\"year\", \"collectivistic\", \"individualistic\")\n",
      "print (\"2007\", \"50.4621072089\", \"31.4232902033\")\n",
      "print (\"2008\", \"65.7435279952\", \"40.9391932571\")\n",
      "print (\"2009\", \"40.0586940572\", \"24.9449743213\")\n",
      "print (\"2010\", \"42.0323325635\", \"26.1739799846\")\n",
      "print (\"2011\", \"49.8402555911\", \"31.0360565952\")\n",
      "print (\"2012\", \"33.8185196655\", \"21.0591514401\")\n",
      "print (\"2013\", \"62.5071551231\", \"38.9238694906\")\n",
      "print (\"2014\", \"45.690376569\", \"28.4518828452\")"
     ],
     "language": "python",
     "metadata": {},
     "outputs": [
      {
       "output_type": "stream",
       "stream": "stdout",
       "text": [
        "('year', 'collectivistic', 'individualistic')\n",
        "('2007', '50.4621072089', '31.4232902033')\n",
        "('2008', '65.7435279952', '40.9391932571')\n",
        "('2009', '40.0586940572', '24.9449743213')\n",
        "('2010', '42.0323325635', '26.1739799846')\n",
        "('2011', '49.8402555911', '31.0360565952')\n",
        "('2012', '33.8185196655', '21.0591514401')\n",
        "('2013', '62.5071551231', '38.9238694906')\n",
        "('2014', '45.690376569', '28.4518828452')\n"
       ]
      }
     ],
     "prompt_number": 193
    },
    {
     "cell_type": "code",
     "collapsed": false,
     "input": [
      "#The initial input of total count of words for each year.\n",
      "year = ['2007','2008','2009','2010','2011','2012','2013','2014']\n",
      "total_blogs = [11,5,11,12,10,11,10,8]\n",
      "total_word_count = [word_count_total_2007, \n",
      "                    word_count_total_2008, \n",
      "                    word_count_total_2009, \n",
      "                    word_count_total_2010, \n",
      "                    word_count_total_2011, \n",
      "                    word_count_total_2012, \n",
      "                    word_count_total_2013, \n",
      "                    word_count_total_2014\n",
      "                    ]\n",
      "avg_word_count = [word_count_avg_2007, \n",
      "                  word_count_avg_2008, \n",
      "                  word_count_avg_2009, \n",
      "                  word_count_avg_2010, \n",
      "                  word_count_avg_2011, \n",
      "                  word_count_avg_2012, \n",
      "                  word_count_avg_2013, \n",
      "                  word_count_avg_2014\n",
      "                  ]\n",
      "unique_word_count = [word_count_unique_2007, \n",
      "                     word_count_unique_2008, \n",
      "                     word_count_unique_2009, \n",
      "                     word_count_unique_2010, \n",
      "                     word_count_unique_2011, \n",
      "                     word_count_unique_2012, \n",
      "                     word_count_unique_2013, \n",
      "                     word_count_unique_2014]\n",
      "lexical_richness = [word_lexical_div_2007,\n",
      "                    word_lexical_div_2008,\n",
      "                    word_lexical_div_2009,\n",
      "                    word_lexical_div_2010,\n",
      "                    word_lexical_div_2011,\n",
      "                    word_lexical_div_2012,\n",
      "                    word_lexical_div_2013,\n",
      "                    word_lexical_div_2014\n",
      "                    ]\n",
      "\n",
      "collectivist_percentage = [50.46,65.74,40.06,42.03,49.84,33.81,62.51,45.69] #here I had to do a bit more manual work\n",
      "individualist_percentage = [31.42,40.94,24.95,26.17,31.04,21.06,39.92,28.45]"
     ],
     "language": "python",
     "metadata": {},
     "outputs": [],
     "prompt_number": 194
    },
    {
     "cell_type": "code",
     "collapsed": false,
     "input": [
      "#Merger the total words count for each year set using zip function.\n",
      "total_words_dataset = zip(year,total_blogs, total_word_count, avg_word_count, unique_word_count, lexical_richness, collectivist_percentage, individualist_percentage)"
     ],
     "language": "python",
     "metadata": {},
     "outputs": [],
     "prompt_number": 195
    },
    {
     "cell_type": "markdown",
     "metadata": {},
     "source": [
      "The data set is pretty much created. We now use pandas to export the data into a csv"
     ]
    },
    {
     "cell_type": "code",
     "collapsed": false,
     "input": [
      "import pandas as pd\n",
      "df = pd.DataFrame(data=total_words_dataset, columns=['year','total_blogs','total_word_count',\n",
      "                                                     'avg_word_count','unique_word_count',\n",
      "                                                     'lexical_richness','collectivist_percentage',\n",
      "                                                     'individualist_percentage'], index =None)"
     ],
     "language": "python",
     "metadata": {},
     "outputs": [],
     "prompt_number": 196
    },
    {
     "cell_type": "code",
     "collapsed": false,
     "input": [
      "df"
     ],
     "language": "python",
     "metadata": {},
     "outputs": [
      {
       "html": [
        "<div style=\"max-height:1000px;max-width:1500px;overflow:auto;\">\n",
        "<table border=\"1\" class=\"dataframe\">\n",
        "  <thead>\n",
        "    <tr style=\"text-align: right;\">\n",
        "      <th></th>\n",
        "      <th>year</th>\n",
        "      <th>total_blogs</th>\n",
        "      <th>total_word_count</th>\n",
        "      <th>avg_word_count</th>\n",
        "      <th>unique_word_count</th>\n",
        "      <th>lexical_richness</th>\n",
        "      <th>collectivist_percentage</th>\n",
        "      <th>individualist_percentage</th>\n",
        "    </tr>\n",
        "  </thead>\n",
        "  <tbody>\n",
        "    <tr>\n",
        "      <th>0</th>\n",
        "      <td> 2007</td>\n",
        "      <td> 11</td>\n",
        "      <td> 2016</td>\n",
        "      <td> 183.272727</td>\n",
        "      <td>  699</td>\n",
        "      <td> 2.884120</td>\n",
        "      <td> 50.46</td>\n",
        "      <td> 31.42</td>\n",
        "    </tr>\n",
        "    <tr>\n",
        "      <th>1</th>\n",
        "      <td> 2008</td>\n",
        "      <td>  5</td>\n",
        "      <td> 1545</td>\n",
        "      <td> 309.000000</td>\n",
        "      <td>  616</td>\n",
        "      <td> 2.508117</td>\n",
        "      <td> 65.74</td>\n",
        "      <td> 40.94</td>\n",
        "    </tr>\n",
        "    <tr>\n",
        "      <th>2</th>\n",
        "      <td> 2009</td>\n",
        "      <td> 11</td>\n",
        "      <td> 2520</td>\n",
        "      <td> 229.090909</td>\n",
        "      <td> 1061</td>\n",
        "      <td> 2.375118</td>\n",
        "      <td> 40.06</td>\n",
        "      <td> 24.95</td>\n",
        "    </tr>\n",
        "    <tr>\n",
        "      <th>3</th>\n",
        "      <td> 2010</td>\n",
        "      <td> 12</td>\n",
        "      <td> 2370</td>\n",
        "      <td> 197.500000</td>\n",
        "      <td>  936</td>\n",
        "      <td> 2.532051</td>\n",
        "      <td> 42.03</td>\n",
        "      <td> 26.17</td>\n",
        "    </tr>\n",
        "    <tr>\n",
        "      <th>4</th>\n",
        "      <td> 2011</td>\n",
        "      <td> 10</td>\n",
        "      <td> 1956</td>\n",
        "      <td> 195.600000</td>\n",
        "      <td>  865</td>\n",
        "      <td> 2.261272</td>\n",
        "      <td> 49.84</td>\n",
        "      <td> 31.04</td>\n",
        "    </tr>\n",
        "    <tr>\n",
        "      <th>5</th>\n",
        "      <td> 2012</td>\n",
        "      <td> 11</td>\n",
        "      <td> 2875</td>\n",
        "      <td> 261.363636</td>\n",
        "      <td>  988</td>\n",
        "      <td> 2.909919</td>\n",
        "      <td> 33.81</td>\n",
        "      <td> 21.06</td>\n",
        "    </tr>\n",
        "    <tr>\n",
        "      <th>6</th>\n",
        "      <td> 2013</td>\n",
        "      <td> 10</td>\n",
        "      <td> 1522</td>\n",
        "      <td> 152.200000</td>\n",
        "      <td>  604</td>\n",
        "      <td> 2.519868</td>\n",
        "      <td> 62.51</td>\n",
        "      <td> 39.92</td>\n",
        "    </tr>\n",
        "    <tr>\n",
        "      <th>7</th>\n",
        "      <td> 2014</td>\n",
        "      <td>  8</td>\n",
        "      <td> 2147</td>\n",
        "      <td> 268.375000</td>\n",
        "      <td>  780</td>\n",
        "      <td> 2.752564</td>\n",
        "      <td> 45.69</td>\n",
        "      <td> 28.45</td>\n",
        "    </tr>\n",
        "  </tbody>\n",
        "</table>\n",
        "</div>"
       ],
       "metadata": {},
       "output_type": "pyout",
       "prompt_number": 197,
       "text": [
        "   year  total_blogs  total_word_count  avg_word_count  unique_word_count  \\\n",
        "0  2007           11              2016      183.272727                699   \n",
        "1  2008            5              1545      309.000000                616   \n",
        "2  2009           11              2520      229.090909               1061   \n",
        "3  2010           12              2370      197.500000                936   \n",
        "4  2011           10              1956      195.600000                865   \n",
        "5  2012           11              2875      261.363636                988   \n",
        "6  2013           10              1522      152.200000                604   \n",
        "7  2014            8              2147      268.375000                780   \n",
        "\n",
        "   lexical_richness  collectivist_percentage  individualist_percentage  \n",
        "0          2.884120                    50.46                     31.42  \n",
        "1          2.508117                    65.74                     40.94  \n",
        "2          2.375118                    40.06                     24.95  \n",
        "3          2.532051                    42.03                     26.17  \n",
        "4          2.261272                    49.84                     31.04  \n",
        "5          2.909919                    33.81                     21.06  \n",
        "6          2.519868                    62.51                     39.92  \n",
        "7          2.752564                    45.69                     28.45  "
       ]
      }
     ],
     "prompt_number": 197
    },
    {
     "cell_type": "code",
     "collapsed": false,
     "input": [
      "df.info()"
     ],
     "language": "python",
     "metadata": {},
     "outputs": [
      {
       "output_type": "stream",
       "stream": "stdout",
       "text": [
        "<class 'pandas.core.frame.DataFrame'>\n",
        "Int64Index: 8 entries, 0 to 7\n",
        "Data columns (total 8 columns):\n",
        "year                 8 non-null object\n",
        "total_blogs          8 non-null int64\n",
        "total_word_count     8 non-null int64\n",
        "avg_word_count       8 non-null float64\n",
        "unique_word_count    8 non-null int64\n",
        "lexical_richness     8 non-null float64\n",
        "cltv_prcntg          8 non-null float64\n",
        "indv_prcntg          8 non-null float64\n",
        "dtypes: float64(4), int64(3), object(1)\n",
        "memory usage: 576.0+ bytes\n"
       ]
      }
     ],
     "prompt_number": 80
    },
    {
     "cell_type": "markdown",
     "metadata": {},
     "source": [
      "##Feature Description\n",
      "\n",
      "total_blogs: total amount of blogs written for the given year.\n",
      "\n",
      "total_word_count: total amount of words written for the given year.\n",
      "\n",
      "avg_word_count = total_word_count divided by total amount of blogs for the year.\n",
      "\n",
      "unique_word_count: eliminate numbers and punctuation from the vocabulary count by filtering out any non-alphabetical items, this is the amount of unique words that is used for the given year.\n",
      "\n",
      "lexical_richness: an average number of times that each word has been used. The total number of words is divided by unique words for the given year. \n",
      "\n",
      "cltv_prcntg: collectivist word use ratio campared to total words used for the given year. eg (We, our, us)\n",
      "\n",
      "inv_prcntg: individualist word use ratio compared to total words used for the given year. eg (I, me, mine)\n",
      "\n",
      "\n"
     ]
    },
    {
     "cell_type": "markdown",
     "metadata": {},
     "source": [
      "##Distinction between Collectivism and Individualism from phsychology.wikia:\n",
      "\n",
      "###Traits of Collectivism:\n",
      "\n",
      "Each person is encouraged to be an active player in society, to do what \n",
      "is best for society as a whole rather than themselves.\n",
      "\n",
      "The rights of families, communities, and the collective supersede those \n",
      "of the individual.\n",
      "\n",
      "Rules promote unity, brotherhood, and selflessness.\n",
      "\n",
      "Working with others and cooperating is the norm; everyone supports each other.\n",
      "\n",
      "as a community, family or nation more than as an individual.\n",
      "\n",
      "###Traits of Individualism:\n",
      "\n",
      "\"I\" identity.\n",
      "\n",
      "Promotes individual goals, initiative and achievement.\n",
      "\n",
      "Individual rights are seen as being the most important. Rules attempt to ensure self-importance and individualism.\n",
      "\n",
      "Independence is valued; there is much less of a drive to help other citizens or communities than in collectivism.\n",
      "\n",
      "Relying or being dependent on others is frequently seen as shameful.\n",
      "\n",
      "People are encouraged to do things on their own; to rely on themselves"
     ]
    },
    {
     "cell_type": "markdown",
     "metadata": {},
     "source": [
      "Over the years books written in the US show an increase in use of individualistic speech. Researchers at the San Diego University, using Google books ngram scanned the last 50 years of writing, a total of 766,513 books and reported an increase in use of words and phrases synonymous with narcissism and self-absorption.\n",
      "\n",
      "I'm currious to see where El's writing fits.\n"
     ]
    },
    {
     "cell_type": "markdown",
     "metadata": {},
     "source": [
      "#Plotting Graphs"
     ]
    },
    {
     "cell_type": "code",
     "collapsed": false,
     "input": [
      "import matplotlib.pyplot as plt\n",
      "\n",
      "%matplotlib inline"
     ],
     "language": "python",
     "metadata": {},
     "outputs": [],
     "prompt_number": 60
    },
    {
     "cell_type": "code",
     "collapsed": false,
     "input": [
      "df"
     ],
     "language": "python",
     "metadata": {},
     "outputs": [
      {
       "html": [
        "<div style=\"max-height:1000px;max-width:1500px;overflow:auto;\">\n",
        "<table border=\"1\" class=\"dataframe\">\n",
        "  <thead>\n",
        "    <tr style=\"text-align: right;\">\n",
        "      <th></th>\n",
        "      <th>year</th>\n",
        "      <th>total_blogs</th>\n",
        "      <th>total_word_count</th>\n",
        "      <th>avg_word_count</th>\n",
        "      <th>unique_word_count</th>\n",
        "      <th>lexical_richness</th>\n",
        "      <th>collectivist_percentage</th>\n",
        "      <th>individualist_percentage</th>\n",
        "      <th>log_unique_word_count</th>\n",
        "      <th>log_total_word_count</th>\n",
        "    </tr>\n",
        "  </thead>\n",
        "  <tbody>\n",
        "    <tr>\n",
        "      <th>0</th>\n",
        "      <td> 2007</td>\n",
        "      <td> 11</td>\n",
        "      <td> 2.029315</td>\n",
        "      <td> 183.272727</td>\n",
        "      <td> 6.549651</td>\n",
        "      <td> 2.884120</td>\n",
        "      <td> 50.46</td>\n",
        "      <td> 31.42</td>\n",
        "      <td> 1.879412</td>\n",
        "      <td> 0.707698</td>\n",
        "    </tr>\n",
        "    <tr>\n",
        "      <th>1</th>\n",
        "      <td> 2008</td>\n",
        "      <td>  5</td>\n",
        "      <td> 1.993717</td>\n",
        "      <td> 309.000000</td>\n",
        "      <td> 6.423247</td>\n",
        "      <td> 2.508117</td>\n",
        "      <td> 65.74</td>\n",
        "      <td> 40.94</td>\n",
        "      <td> 1.859924</td>\n",
        "      <td> 0.690001</td>\n",
        "    </tr>\n",
        "    <tr>\n",
        "      <th>2</th>\n",
        "      <td> 2009</td>\n",
        "      <td> 11</td>\n",
        "      <td> 2.058220</td>\n",
        "      <td> 229.090909</td>\n",
        "      <td> 6.966967</td>\n",
        "      <td> 2.375118</td>\n",
        "      <td> 40.06</td>\n",
        "      <td> 24.95</td>\n",
        "      <td> 1.941180</td>\n",
        "      <td> 0.721841</td>\n",
        "    </tr>\n",
        "    <tr>\n",
        "      <th>3</th>\n",
        "      <td> 2010</td>\n",
        "      <td> 12</td>\n",
        "      <td> 2.050353</td>\n",
        "      <td> 197.500000</td>\n",
        "      <td> 6.841615</td>\n",
        "      <td> 2.532051</td>\n",
        "      <td> 42.03</td>\n",
        "      <td> 26.17</td>\n",
        "      <td> 1.923024</td>\n",
        "      <td> 0.718012</td>\n",
        "    </tr>\n",
        "    <tr>\n",
        "      <th>4</th>\n",
        "      <td> 2011</td>\n",
        "      <td> 10</td>\n",
        "      <td> 2.025336</td>\n",
        "      <td> 195.600000</td>\n",
        "      <td> 6.762730</td>\n",
        "      <td> 2.261272</td>\n",
        "      <td> 49.84</td>\n",
        "      <td> 31.04</td>\n",
        "      <td> 1.911427</td>\n",
        "      <td> 0.705736</td>\n",
        "    </tr>\n",
        "    <tr>\n",
        "      <th>5</th>\n",
        "      <td> 2012</td>\n",
        "      <td> 11</td>\n",
        "      <td> 2.074907</td>\n",
        "      <td> 261.363636</td>\n",
        "      <td> 6.895683</td>\n",
        "      <td> 2.909919</td>\n",
        "      <td> 33.81</td>\n",
        "      <td> 21.06</td>\n",
        "      <td> 1.930896</td>\n",
        "      <td> 0.729916</td>\n",
        "    </tr>\n",
        "    <tr>\n",
        "      <th>6</th>\n",
        "      <td> 2013</td>\n",
        "      <td> 10</td>\n",
        "      <td> 1.991673</td>\n",
        "      <td> 152.200000</td>\n",
        "      <td> 6.403574</td>\n",
        "      <td> 2.519868</td>\n",
        "      <td> 62.51</td>\n",
        "      <td> 39.92</td>\n",
        "      <td> 1.856856</td>\n",
        "      <td> 0.688975</td>\n",
        "    </tr>\n",
        "    <tr>\n",
        "      <th>7</th>\n",
        "      <td> 2014</td>\n",
        "      <td>  8</td>\n",
        "      <td> 2.037555</td>\n",
        "      <td> 268.375000</td>\n",
        "      <td> 6.659294</td>\n",
        "      <td> 2.752564</td>\n",
        "      <td> 45.69</td>\n",
        "      <td> 28.45</td>\n",
        "      <td> 1.896013</td>\n",
        "      <td> 0.711750</td>\n",
        "    </tr>\n",
        "  </tbody>\n",
        "</table>\n",
        "</div>"
       ],
       "metadata": {},
       "output_type": "pyout",
       "prompt_number": 577,
       "text": [
        "   year  total_blogs  total_word_count  avg_word_count  unique_word_count  \\\n",
        "0  2007           11          2.029315      183.272727           6.549651   \n",
        "1  2008            5          1.993717      309.000000           6.423247   \n",
        "2  2009           11          2.058220      229.090909           6.966967   \n",
        "3  2010           12          2.050353      197.500000           6.841615   \n",
        "4  2011           10          2.025336      195.600000           6.762730   \n",
        "5  2012           11          2.074907      261.363636           6.895683   \n",
        "6  2013           10          1.991673      152.200000           6.403574   \n",
        "7  2014            8          2.037555      268.375000           6.659294   \n",
        "\n",
        "   lexical_richness  collectivist_percentage  individualist_percentage  \\\n",
        "0          2.884120                    50.46                     31.42   \n",
        "1          2.508117                    65.74                     40.94   \n",
        "2          2.375118                    40.06                     24.95   \n",
        "3          2.532051                    42.03                     26.17   \n",
        "4          2.261272                    49.84                     31.04   \n",
        "5          2.909919                    33.81                     21.06   \n",
        "6          2.519868                    62.51                     39.92   \n",
        "7          2.752564                    45.69                     28.45   \n",
        "\n",
        "   log_unique_word_count  log_total_word_count  \n",
        "0               1.879412              0.707698  \n",
        "1               1.859924              0.690001  \n",
        "2               1.941180              0.721841  \n",
        "3               1.923024              0.718012  \n",
        "4               1.911427              0.705736  \n",
        "5               1.930896              0.729916  \n",
        "6               1.856856              0.688975  \n",
        "7               1.896013              0.711750  "
       ]
      }
     ],
     "prompt_number": 577
    },
    {
     "cell_type": "code",
     "collapsed": false,
     "input": [
      "df.plot()"
     ],
     "language": "python",
     "metadata": {},
     "outputs": [
      {
       "metadata": {},
       "output_type": "pyout",
       "prompt_number": 81,
       "text": [
        "<matplotlib.axes._subplots.AxesSubplot at 0x11ce58850>"
       ]
      },
      {
       "metadata": {},
       "output_type": "display_data",
       "png": "[encoded data removed]",
       "text": [
        "<matplotlib.figure.Figure at 0x11c4de650>"
       ]
      }
     ],
     "prompt_number": 81
    },
    {
     "cell_type": "markdown",
     "metadata": {},
     "source": [
      "Total Amount of blogs written by year. Interesting that the second year, 2008 of owning a blog, El drops his habit of writing by half, but immediately jumps back up to putting in work."
     ]
    },
    {
     "cell_type": "code",
     "collapsed": false,
     "input": [
      "\n",
      "df_total_blogs = df[['year','total_blogs']]\n",
      "df_total_blogs = df_total_blogs.set_index('year')\n",
      "df_total_blogs.plot(kind='bar',alpha=.30,figsize=(8,6))\n",
      "plt.ylabel(\"Number of Blogs\")\n",
      "plt.ylim(0,14)\n",
      "plt.title('Figure 1.1')"
     ],
     "language": "python",
     "metadata": {},
     "outputs": [
      {
       "metadata": {},
       "output_type": "pyout",
       "prompt_number": 490,
       "text": [
        "<matplotlib.text.Text at 0x142003c50>"
       ]
      },
      {
       "metadata": {},
       "output_type": "display_data",
       "png": "[encoded data removed]",
       "text": [
        "<matplotlib.figure.Figure at 0x1412d8090>"
       ]
      }
     ],
     "prompt_number": 490
    },
    {
     "cell_type": "code",
     "collapsed": false,
     "input": [
      "df_words.plot?"
     ],
     "language": "python",
     "metadata": {},
     "outputs": [],
     "prompt_number": 119
    },
    {
     "cell_type": "code",
     "collapsed": false,
     "input": [
      "df_words = df[['year','total_word_count','unique_word_count','avg_word_count']]\n",
      "df_words = df_words.set_index('year')\n",
      "df_words.plot(kind='bar',alpha=.30,figsize=(8,6))\n",
      "plt.ylim(0,3500)\n",
      "plt.ylabel(\"Number of Words\")\n",
      "plt.title('Figure 1.2')"
     ],
     "language": "python",
     "metadata": {},
     "outputs": [
      {
       "metadata": {},
       "output_type": "pyout",
       "prompt_number": 488,
       "text": [
        "<matplotlib.text.Text at 0x1419a8990>"
       ]
      },
      {
       "metadata": {},
       "output_type": "display_data",
       "png": "[encoded data removed]",
       "text": [
        "<matplotlib.figure.Figure at 0x140209bd0>"
       ]
      }
     ],
     "prompt_number": 488
    },
    {
     "cell_type": "code",
     "collapsed": false,
     "input": [
      "df.plot()"
     ],
     "language": "python",
     "metadata": {},
     "outputs": [
      {
       "metadata": {},
       "output_type": "pyout",
       "prompt_number": 159,
       "text": [
        "<matplotlib.axes._subplots.AxesSubplot at 0x124364850>"
       ]
      },
      {
       "metadata": {},
       "output_type": "display_data",
       "png": "[encoded data removed]",
       "text": [
        "<matplotlib.figure.Figure at 0x1237dbf50>"
       ]
      }
     ],
     "prompt_number": 159
    },
    {
     "cell_type": "markdown",
     "metadata": {},
     "source": [
      "Lexical richness represents the average number of different word types. It's calculated by taking the total number of words and dividing it by unique words that only appear once in the text.\n",
      "\n",
      "\n",
      "Lexical richness largley depends on the size of the text, as the total words in the text increase the increase in unique words halts to increase. There are only so many unique words that could be used in a single text versus the total words that could go on infinetely. \n",
      "\n",
      "Lets compare the lexical richness to the total words and unique words used for each year and see if there's a pattern.\n",
      "\n",
      "I would presume that with an increase of total words the increase in unique words would be marginal. Here, it looks like, as the total words increase so does the lexical richness and it gets better over the years. El's been flexing his literary muscles. \n",
      "\n",
      "Some word analysis later on might add context as to why this is the case."
     ]
    },
    {
     "cell_type": "code",
     "collapsed": false,
     "input": [
      "df_words = df[['year','lexical_richness']]\n",
      "df_words = df_words.set_index('year')\n",
      "df_words.plot(kind='bar',alpha=.30,figsize=(8,6))\n",
      "plt.ylabel(\"lexical richness\")\n",
      "plt.ylim(0,3.5)\n",
      "plt.title('Figure 1.4')"
     ],
     "language": "python",
     "metadata": {},
     "outputs": [
      {
       "metadata": {},
       "output_type": "pyout",
       "prompt_number": 526,
       "text": [
        "<matplotlib.text.Text at 0x13d7902d0>"
       ]
      },
      {
       "metadata": {},
       "output_type": "display_data",
       "png": "[encoded data removed]",
       "text": [
        "<matplotlib.figure.Figure at 0x1383b4c90>"
       ]
      }
     ],
     "prompt_number": 526
    },
    {
     "cell_type": "markdown",
     "metadata": {},
     "source": [
      "Collectivists encourage active participation in society and do what's best for society as a whole and don't worry much about themselves. The rights of families, communities, and the collective supersede their individual needs. Their rules promote unity, brotherhood and selflessness.\n",
      "\n",
      "Individualists identify with \"I\", \"me\", \"mine\" etc..., promote individual goals, initiative and achievement. Their rules attempt to ensure self-importance and individualism. Independence is valued; there is much less of a drive to help other citizens and communities.\n",
      " "
     ]
    },
    {
     "cell_type": "code",
     "collapsed": false,
     "input": [
      "df_indv_cltv = df[['year','collectivist_percentage','individualist_percentage']]\n",
      "df_indv_cltv = df_indv_cltv.set_index('year')\n",
      "df_indv_cltv.plot(kind='bar',alpha=.30,figsize=(6,4))\n",
      "plt.ylim(0,100)\n",
      "plt.ylabel(\"% of Distribution\")\n",
      "print \"Figure 2.4\""
     ],
     "language": "python",
     "metadata": {},
     "outputs": [
      {
       "output_type": "stream",
       "stream": "stdout",
       "text": [
        "Figure 2.4\n"
       ]
      },
      {
       "metadata": {},
       "output_type": "display_data",
       "png": "[encoded data removed]",
       "text": [
        "<matplotlib.figure.Figure at 0x13acd4650>"
       ]
      }
     ],
     "prompt_number": 584
    },
    {
     "cell_type": "markdown",
     "metadata": {},
     "source": [
      "The first step to this analysis is getting a list of all individualistic and collectivist words. eg you, I, me, us etc...\n",
      "\n",
      "Second, step is finding all the words in the text and getting a percentage of their usage. A frequency distribution function tells us the percentage of how often a particular word occurs in the text. The total count of the word is divided by the total count of words.\n",
      "\n",
      "Once all words have a percentage, add up all the collectivist words and add up all the individualist words together to see the difference.\n"
     ]
    },
    {
     "cell_type": "code",
     "collapsed": false,
     "input": [
      "freq_prcntg_indv = [14.25,5.52,6.63,1.40,0.37,0.04]\n",
      "freq_words_indv = ['I','self','my',\"I'm\",'Myself','Mine']\n",
      "\n",
      "freq_prcntg_cltv = [9.23,5.77,3.17,5.72,5.27,5.56,4.61,3.21,1.19,1.40,0.45]\n",
      "freq_words_cltv = ['You','Your','He_His_Him','She_Hers_Her','We','Our','All','Us','They','Their','Yourself']"
     ],
     "language": "python",
     "metadata": {},
     "outputs": [],
     "prompt_number": 228
    },
    {
     "cell_type": "code",
     "collapsed": false,
     "input": [
      "freq_indv = zip(freq_prcntg_indv,freq_words_indv) \n",
      "df_freq_indv = pd.DataFrame(data=freq_indv, columns=['Individualist Distribution Percentage','Words'], index =None)\n",
      "\n",
      "freq_cltv = zip(freq_prcntg_cltv, freq_words_cltv)\n",
      "df_freq_cltv = pd.DataFrame(data=freq_cltv, columns=['Collectivist Distribution Percentage','Words'], index =None)"
     ],
     "language": "python",
     "metadata": {},
     "outputs": [],
     "prompt_number": 245
    },
    {
     "cell_type": "code",
     "collapsed": false,
     "input": [
      "df_freq_indv = df_freq_indv.set_index('Words')\n",
      "df_freq_cltv = df_freq_cltv.set_index('Words')"
     ],
     "language": "python",
     "metadata": {},
     "outputs": [],
     "prompt_number": 246
    },
    {
     "cell_type": "code",
     "collapsed": false,
     "input": [
      "df_freq_cltv.plot?"
     ],
     "language": "python",
     "metadata": {},
     "outputs": [],
     "prompt_number": 258
    },
    {
     "cell_type": "code",
     "collapsed": false,
     "input": [
      "\n",
      "fig, axs = plt.subplots(1,2)\n",
      "\n",
      "df_freq_indv.plot(kind='bar',figsize=(12,8),alpha=.30,ax=axs[0])\n",
      "plt.ylim(0,16)\n",
      "plt.ylabel(\"% of Distribution\")\n",
      "plt.legend(loc='best')\n",
      "\n",
      "df_freq_cltv.plot(kind='bar',color='green',figsize=(12,8),alpha=.30,ax=axs[1])\n",
      "plt.ylim(0,16)\n",
      "plt.ylabel(\"% of Distribution\")\n",
      "plt.legend(loc='best')\n",
      "\n",
      "print \"Figure 2.3\""
     ],
     "language": "python",
     "metadata": {},
     "outputs": [
      {
       "output_type": "stream",
       "stream": "stdout",
       "text": [
        "Figure 2.3\n"
       ]
      },
      {
       "metadata": {},
       "output_type": "display_data",
       "png": "[encoded data removed]",
       "text": [
        "<matplotlib.figure.Figure at 0x136e582d0>"
       ]
      }
     ],
     "prompt_number": 582
    },
    {
     "cell_type": "code",
     "collapsed": false,
     "input": [
      "df"
     ],
     "language": "python",
     "metadata": {},
     "outputs": [
      {
       "html": [
        "<div style=\"max-height:1000px;max-width:1500px;overflow:auto;\">\n",
        "<table border=\"1\" class=\"dataframe\">\n",
        "  <thead>\n",
        "    <tr style=\"text-align: right;\">\n",
        "      <th></th>\n",
        "      <th>year</th>\n",
        "      <th>total_blogs</th>\n",
        "      <th>total_word_count</th>\n",
        "      <th>avg_word_count</th>\n",
        "      <th>unique_word_count</th>\n",
        "      <th>lexical_richness</th>\n",
        "      <th>collectivist_percentage</th>\n",
        "      <th>individualist_percentage</th>\n",
        "    </tr>\n",
        "  </thead>\n",
        "  <tbody>\n",
        "    <tr>\n",
        "      <th>0</th>\n",
        "      <td> 2007</td>\n",
        "      <td> 11</td>\n",
        "      <td> 2016</td>\n",
        "      <td> 183.272727</td>\n",
        "      <td>  699</td>\n",
        "      <td> 2.884120</td>\n",
        "      <td> 50.46</td>\n",
        "      <td> 31.42</td>\n",
        "    </tr>\n",
        "    <tr>\n",
        "      <th>1</th>\n",
        "      <td> 2008</td>\n",
        "      <td>  5</td>\n",
        "      <td> 1545</td>\n",
        "      <td> 309.000000</td>\n",
        "      <td>  616</td>\n",
        "      <td> 2.508117</td>\n",
        "      <td> 65.74</td>\n",
        "      <td> 40.94</td>\n",
        "    </tr>\n",
        "    <tr>\n",
        "      <th>2</th>\n",
        "      <td> 2009</td>\n",
        "      <td> 11</td>\n",
        "      <td> 2520</td>\n",
        "      <td> 229.090909</td>\n",
        "      <td> 1061</td>\n",
        "      <td> 2.375118</td>\n",
        "      <td> 40.06</td>\n",
        "      <td> 24.95</td>\n",
        "    </tr>\n",
        "    <tr>\n",
        "      <th>3</th>\n",
        "      <td> 2010</td>\n",
        "      <td> 12</td>\n",
        "      <td> 2370</td>\n",
        "      <td> 197.500000</td>\n",
        "      <td>  936</td>\n",
        "      <td> 2.532051</td>\n",
        "      <td> 42.03</td>\n",
        "      <td> 26.17</td>\n",
        "    </tr>\n",
        "    <tr>\n",
        "      <th>4</th>\n",
        "      <td> 2011</td>\n",
        "      <td> 10</td>\n",
        "      <td> 1956</td>\n",
        "      <td> 195.600000</td>\n",
        "      <td>  865</td>\n",
        "      <td> 2.261272</td>\n",
        "      <td> 49.84</td>\n",
        "      <td> 31.04</td>\n",
        "    </tr>\n",
        "    <tr>\n",
        "      <th>5</th>\n",
        "      <td> 2012</td>\n",
        "      <td> 11</td>\n",
        "      <td> 2875</td>\n",
        "      <td> 261.363636</td>\n",
        "      <td>  988</td>\n",
        "      <td> 2.909919</td>\n",
        "      <td> 33.81</td>\n",
        "      <td> 21.06</td>\n",
        "    </tr>\n",
        "    <tr>\n",
        "      <th>6</th>\n",
        "      <td> 2013</td>\n",
        "      <td> 10</td>\n",
        "      <td> 1522</td>\n",
        "      <td> 152.200000</td>\n",
        "      <td>  604</td>\n",
        "      <td> 2.519868</td>\n",
        "      <td> 62.51</td>\n",
        "      <td> 39.92</td>\n",
        "    </tr>\n",
        "    <tr>\n",
        "      <th>7</th>\n",
        "      <td> 2014</td>\n",
        "      <td>  8</td>\n",
        "      <td> 2147</td>\n",
        "      <td> 268.375000</td>\n",
        "      <td>  780</td>\n",
        "      <td> 2.752564</td>\n",
        "      <td> 45.69</td>\n",
        "      <td> 28.45</td>\n",
        "    </tr>\n",
        "  </tbody>\n",
        "</table>\n",
        "</div>"
       ],
       "metadata": {},
       "output_type": "pyout",
       "prompt_number": 262,
       "text": [
        "   year  total_blogs  total_word_count  avg_word_count  unique_word_count  \\\n",
        "0  2007           11              2016      183.272727                699   \n",
        "1  2008            5              1545      309.000000                616   \n",
        "2  2009           11              2520      229.090909               1061   \n",
        "3  2010           12              2370      197.500000                936   \n",
        "4  2011           10              1956      195.600000                865   \n",
        "5  2012           11              2875      261.363636                988   \n",
        "6  2013           10              1522      152.200000                604   \n",
        "7  2014            8              2147      268.375000                780   \n",
        "\n",
        "   lexical_richness  collectivist_percentage  individualist_percentage  \n",
        "0          2.884120                    50.46                     31.42  \n",
        "1          2.508117                    65.74                     40.94  \n",
        "2          2.375118                    40.06                     24.95  \n",
        "3          2.532051                    42.03                     26.17  \n",
        "4          2.261272                    49.84                     31.04  \n",
        "5          2.909919                    33.81                     21.06  \n",
        "6          2.519868                    62.51                     39.92  \n",
        "7          2.752564                    45.69                     28.45  "
       ]
      }
     ],
     "prompt_number": 262
    },
    {
     "cell_type": "code",
     "collapsed": false,
     "input": [
      "df.describe()"
     ],
     "language": "python",
     "metadata": {},
     "outputs": [
      {
       "html": [
        "<div style=\"max-height:1000px;max-width:1500px;overflow:auto;\">\n",
        "<table border=\"1\" class=\"dataframe\">\n",
        "  <thead>\n",
        "    <tr style=\"text-align: right;\">\n",
        "      <th></th>\n",
        "      <th>total_blogs</th>\n",
        "      <th>total_word_count</th>\n",
        "      <th>avg_word_count</th>\n",
        "      <th>unique_word_count</th>\n",
        "      <th>lexical_richness</th>\n",
        "      <th>collectivist_percentage</th>\n",
        "      <th>individualist_percentage</th>\n",
        "    </tr>\n",
        "  </thead>\n",
        "  <tbody>\n",
        "    <tr>\n",
        "      <th>count</th>\n",
        "      <td>  8.000000</td>\n",
        "      <td>    8.000000</td>\n",
        "      <td>   8.000000</td>\n",
        "      <td>    8.000000</td>\n",
        "      <td> 8.000000</td>\n",
        "      <td>  8.000000</td>\n",
        "      <td>  8.000000</td>\n",
        "    </tr>\n",
        "    <tr>\n",
        "      <th>mean</th>\n",
        "      <td>  9.750000</td>\n",
        "      <td> 2118.875000</td>\n",
        "      <td> 224.550284</td>\n",
        "      <td>  818.625000</td>\n",
        "      <td> 2.592879</td>\n",
        "      <td> 48.767500</td>\n",
        "      <td> 30.493750</td>\n",
        "    </tr>\n",
        "    <tr>\n",
        "      <th>std</th>\n",
        "      <td>  2.251983</td>\n",
        "      <td>  465.860935</td>\n",
        "      <td>  52.011589</td>\n",
        "      <td>  171.665736</td>\n",
        "      <td> 0.234348</td>\n",
        "      <td> 10.924083</td>\n",
        "      <td>  6.987082</td>\n",
        "    </tr>\n",
        "    <tr>\n",
        "      <th>min</th>\n",
        "      <td>  5.000000</td>\n",
        "      <td> 1522.000000</td>\n",
        "      <td> 152.200000</td>\n",
        "      <td>  604.000000</td>\n",
        "      <td> 2.261272</td>\n",
        "      <td> 33.810000</td>\n",
        "      <td> 21.060000</td>\n",
        "    </tr>\n",
        "    <tr>\n",
        "      <th>25%</th>\n",
        "      <td>  9.500000</td>\n",
        "      <td> 1853.250000</td>\n",
        "      <td> 192.518182</td>\n",
        "      <td>  678.250000</td>\n",
        "      <td> 2.474867</td>\n",
        "      <td> 41.537500</td>\n",
        "      <td> 25.865000</td>\n",
        "    </tr>\n",
        "    <tr>\n",
        "      <th>50%</th>\n",
        "      <td> 10.500000</td>\n",
        "      <td> 2081.500000</td>\n",
        "      <td> 213.295455</td>\n",
        "      <td>  822.500000</td>\n",
        "      <td> 2.525959</td>\n",
        "      <td> 47.765000</td>\n",
        "      <td> 29.745000</td>\n",
        "    </tr>\n",
        "    <tr>\n",
        "      <th>75%</th>\n",
        "      <td> 11.000000</td>\n",
        "      <td> 2407.500000</td>\n",
        "      <td> 263.116477</td>\n",
        "      <td>  949.000000</td>\n",
        "      <td> 2.785453</td>\n",
        "      <td> 53.472500</td>\n",
        "      <td> 33.545000</td>\n",
        "    </tr>\n",
        "    <tr>\n",
        "      <th>max</th>\n",
        "      <td> 12.000000</td>\n",
        "      <td> 2875.000000</td>\n",
        "      <td> 309.000000</td>\n",
        "      <td> 1061.000000</td>\n",
        "      <td> 2.909919</td>\n",
        "      <td> 65.740000</td>\n",
        "      <td> 40.940000</td>\n",
        "    </tr>\n",
        "  </tbody>\n",
        "</table>\n",
        "</div>"
       ],
       "metadata": {},
       "output_type": "pyout",
       "prompt_number": 483,
       "text": [
        "       total_blogs  total_word_count  avg_word_count  unique_word_count  \\\n",
        "count     8.000000          8.000000        8.000000           8.000000   \n",
        "mean      9.750000       2118.875000      224.550284         818.625000   \n",
        "std       2.251983        465.860935       52.011589         171.665736   \n",
        "min       5.000000       1522.000000      152.200000         604.000000   \n",
        "25%       9.500000       1853.250000      192.518182         678.250000   \n",
        "50%      10.500000       2081.500000      213.295455         822.500000   \n",
        "75%      11.000000       2407.500000      263.116477         949.000000   \n",
        "max      12.000000       2875.000000      309.000000        1061.000000   \n",
        "\n",
        "       lexical_richness  collectivist_percentage  individualist_percentage  \n",
        "count          8.000000                 8.000000                  8.000000  \n",
        "mean           2.592879                48.767500                 30.493750  \n",
        "std            0.234348                10.924083                  6.987082  \n",
        "min            2.261272                33.810000                 21.060000  \n",
        "25%            2.474867                41.537500                 25.865000  \n",
        "50%            2.525959                47.765000                 29.745000  \n",
        "75%            2.785453                53.472500                 33.545000  \n",
        "max            2.909919                65.740000                 40.940000  "
       ]
      }
     ],
     "prompt_number": 483
    },
    {
     "cell_type": "code",
     "collapsed": false,
     "input": [
      "from sklearn import linear_model\n",
      "\n",
      "regr = linear_model.LinearRegression()\n",
      "total_word_count = df[['total_word_count']]\n",
      "unique_word_count = df['unique_word_count'].values\n",
      "\n",
      "regr.fit(total_word_count, unique_word_count)"
     ],
     "language": "python",
     "metadata": {},
     "outputs": [
      {
       "metadata": {},
       "output_type": "pyout",
       "prompt_number": 501,
       "text": [
        "LinearRegression(copy_X=True, fit_intercept=True, normalize=False)"
       ]
      }
     ],
     "prompt_number": 501
    },
    {
     "cell_type": "code",
     "collapsed": false,
     "input": [
      "\n",
      "plt.scatter(total_word_count, unique_word_count)\n",
      "plt.plot(total_word_count, regr.predict(total_word_count), color='blue', linewidth=3, alpha=.30)\n",
      "plt.xlabel('Total Word')\n",
      "plt.ylabel('Unique Words')\n",
      "plt.title(\"Figure 1.3\")"
     ],
     "language": "python",
     "metadata": {},
     "outputs": [
      {
       "metadata": {},
       "output_type": "pyout",
       "prompt_number": 523,
       "text": [
        "<matplotlib.text.Text at 0x1380a85d0>"
       ]
      },
      {
       "metadata": {},
       "output_type": "display_data",
       "png": "[encoded data removed]",
       "text": [
        "<matplotlib.figure.Figure at 0x13eee6050>"
       ]
      }
     ],
     "prompt_number": 523
    },
    {
     "cell_type": "markdown",
     "metadata": {},
     "source": [
      "What is the goodness of fit between the number of total words per all blogs vs unique words for our linear regression? \n",
      "\n",
      "Linear regression provides an equation that minimizes the distance between the fitted line. R-squared explains the measure of how close the data is to the fitted regression line. It's a percentage that is always between 0% and 100%.\n",
      "\n",
      "The R-squared is 84.01% and explains 84% of the variance in the total number of words and unique words. As the number of total words goes up so does the amount of unique words. \n",
      "\n",
      "A pretty intuitive finding. Anyone that wants to use more unique words, just write more. lol. Further obsevations would require more annual data. Any points made here are limited to the amount of data. These are observations and nothing more. "
     ]
    },
    {
     "cell_type": "code",
     "collapsed": false,
     "input": [
      "import statsmodels.formula.api as smf\n",
      "# OLS, or ordinary least squares, takes a y (dependent variable) and X (independent variables) (formula = y ~ X)\n",
      "# Below, we copy the data frame and remove the na variables, and create a single variable linear model\n",
      "# to return a test statistic and p-value, to see how strong of a relationship bodyweight and brainweight have.\n",
      "\n",
      "df['log_unique_word_count'] = np.log(df['unique_word_count'])\n",
      "df['log_total_word_count'] = np.log(df['total_word_count'])\n",
      "\n",
      "fig, axes = plt.subplots(nrows=1,ncols=2)\n",
      "\n",
      "axes[0].plot(df.unique_word_count, df.total_word_count, 'go')\n",
      "\n",
      "model = smf.ols(formula='total_word_count ~ unique_word_count', data=df)\n",
      "results = model.fit()\n",
      "print 'NORMAL FIT SUMMARY'\n",
      "print(results.summary())\n",
      "print\n",
      "\n",
      "axes[1].plot(df.log_unique_word_count, df.log_total_word_count, 'mo')\n",
      "\n",
      "log_model = smf.ols(formula='log_total_word_count ~ log_unique_word_count', data=df)\n",
      "log_results = log_model.fit()\n",
      "print 'LOG-LOG FIT SUMMARY'\n",
      "print(log_results.summary())\n",
      "\n",
      "print fig"
     ],
     "language": "python",
     "metadata": {},
     "outputs": [
      {
       "output_type": "stream",
       "stream": "stdout",
       "text": [
        "NORMAL FIT SUMMARY\n",
        "                            OLS Regression Results                            \n",
        "==============================================================================\n",
        "Dep. Variable:       total_word_count   R-squared:                       0.841\n",
        "Model:                            OLS   Adj. R-squared:                  0.814\n",
        "Method:                 Least Squares   F-statistic:                     31.65\n",
        "Date:                Wed, 24 Dec 2014   Prob (F-statistic):            0.00135\n",
        "Time:                        01:23:24   Log-Likelihood:                 24.752\n",
        "No. Observations:                   8   AIC:                            -45.50\n",
        "Df Residuals:                       6   BIC:                            -45.35\n",
        "Df Model:                           1                                         \n",
        "=====================================================================================\n",
        "                        coef    std err          t      P>|t|      [95.0% Conf. Int.]\n",
        "-------------------------------------------------------------------------------------\n",
        "Intercept             1.1919      0.150      7.972      0.000         0.826     1.558\n",
        "unique_word_count     0.1257      0.022      5.626      0.001         0.071     0.180\n",
        "==============================================================================\n",
        "Omnibus:                        0.871   Durbin-Watson:                   2.514\n",
        "Prob(Omnibus):                  0.647   Jarque-Bera (JB):                0.574\n",
        "Skew:                           0.166   Prob(JB):                        0.750\n",
        "Kurtosis:                       1.730   Cond. No.                         228.\n",
        "=============================================================================="
       ]
      },
      {
       "output_type": "stream",
       "stream": "stdout",
       "text": [
        "\n",
        "\n",
        "LOG-LOG FIT SUMMARY\n",
        "                             OLS Regression Results                             \n",
        "================================================================================\n",
        "Dep. Variable:     log_total_word_count   R-squared:                       0.844\n",
        "Model:                              OLS   Adj. R-squared:                  0.818\n",
        "Method:                   Least Squares   F-statistic:                     32.36\n",
        "Date:                  Wed, 24 Dec 2014   Prob (F-statistic):            0.00127\n",
        "Time:                          01:23:24   Log-Likelihood:                 30.491\n",
        "No. Observations:                     8   AIC:                            -56.98\n",
        "Df Residuals:                         6   BIC:                            -56.82\n",
        "Df Model:                             1                                         \n",
        "=========================================================================================\n",
        "                            coef    std err          t      P>|t|      [95.0% Conf. Int.]\n",
        "-----------------------------------------------------------------------------------------\n",
        "Intercept                -0.0769      0.138     -0.556      0.598        -0.415     0.261\n",
        "log_unique_word_count     0.4138      0.073      5.688      0.001         0.236     0.592\n",
        "==============================================================================\n",
        "Omnibus:                        0.741   Durbin-Watson:                   2.509\n",
        "Prob(Omnibus):                  0.690   Jarque-Bera (JB):                0.540\n",
        "Skew:                           0.146   Prob(JB):                        0.763\n",
        "Kurtosis:                       1.761   Cond. No.                         153.\n",
        "==============================================================================\n",
        "Figure(480x320)\n"
       ]
      },
      {
       "output_type": "stream",
       "stream": "stderr",
       "text": [
        "/Users/olehdubno/anaconda/lib/python2.7/site-packages/scipy/stats/stats.py:1205: UserWarning: kurtosistest only valid for n>=20 ... continuing anyway, n=8\n",
        "  int(n))\n"
       ]
      },
      {
       "metadata": {},
       "output_type": "display_data",
       "png": "[encoded data removed]",
       "text": [
        "<matplotlib.figure.Figure at 0x142f4f090>"
       ]
      }
     ],
     "prompt_number": 499
    },
    {
     "cell_type": "code",
     "collapsed": false,
     "input": [
      "df.describe()"
     ],
     "language": "python",
     "metadata": {},
     "outputs": [
      {
       "html": [
        "<div style=\"max-height:1000px;max-width:1500px;overflow:auto;\">\n",
        "<table border=\"1\" class=\"dataframe\">\n",
        "  <thead>\n",
        "    <tr style=\"text-align: right;\">\n",
        "      <th></th>\n",
        "      <th>total_blogs</th>\n",
        "      <th>total_word_count</th>\n",
        "      <th>avg_word_count</th>\n",
        "      <th>unique_word_count</th>\n",
        "      <th>lexical_richness</th>\n",
        "      <th>collectivist_percentage</th>\n",
        "      <th>individualist_percentage</th>\n",
        "      <th>log_unique_word_count</th>\n",
        "      <th>log_total_word_count</th>\n",
        "    </tr>\n",
        "  </thead>\n",
        "  <tbody>\n",
        "    <tr>\n",
        "      <th>count</th>\n",
        "      <td>  8.000000</td>\n",
        "      <td> 8.000000</td>\n",
        "      <td>   8.000000</td>\n",
        "      <td> 8.000000</td>\n",
        "      <td> 8.000000</td>\n",
        "      <td>  8.000000</td>\n",
        "      <td>  8.000000</td>\n",
        "      <td> 8.000000</td>\n",
        "      <td> 8.000000</td>\n",
        "    </tr>\n",
        "    <tr>\n",
        "      <th>mean</th>\n",
        "      <td>  9.750000</td>\n",
        "      <td> 2.032634</td>\n",
        "      <td> 224.550284</td>\n",
        "      <td> 6.687845</td>\n",
        "      <td> 2.592879</td>\n",
        "      <td> 48.767500</td>\n",
        "      <td> 30.493750</td>\n",
        "      <td> 1.899841</td>\n",
        "      <td> 0.709241</td>\n",
        "    </tr>\n",
        "    <tr>\n",
        "      <th>std</th>\n",
        "      <td>  2.251983</td>\n",
        "      <td> 0.029366</td>\n",
        "      <td>  52.011589</td>\n",
        "      <td> 0.214174</td>\n",
        "      <td> 0.234348</td>\n",
        "      <td> 10.924083</td>\n",
        "      <td>  6.987082</td>\n",
        "      <td> 0.032112</td>\n",
        "      <td> 0.014467</td>\n",
        "    </tr>\n",
        "    <tr>\n",
        "      <th>min</th>\n",
        "      <td>  5.000000</td>\n",
        "      <td> 1.991673</td>\n",
        "      <td> 152.200000</td>\n",
        "      <td> 6.403574</td>\n",
        "      <td> 2.261272</td>\n",
        "      <td> 33.810000</td>\n",
        "      <td> 21.060000</td>\n",
        "      <td> 1.856856</td>\n",
        "      <td> 0.688975</td>\n",
        "    </tr>\n",
        "    <tr>\n",
        "      <th>25%</th>\n",
        "      <td>  9.500000</td>\n",
        "      <td> 2.017431</td>\n",
        "      <td> 192.518182</td>\n",
        "      <td> 6.518050</td>\n",
        "      <td> 2.474867</td>\n",
        "      <td> 41.537500</td>\n",
        "      <td> 25.865000</td>\n",
        "      <td> 1.874540</td>\n",
        "      <td> 0.701802</td>\n",
        "    </tr>\n",
        "    <tr>\n",
        "      <th>50%</th>\n",
        "      <td> 10.500000</td>\n",
        "      <td> 2.033435</td>\n",
        "      <td> 213.295455</td>\n",
        "      <td> 6.711012</td>\n",
        "      <td> 2.525959</td>\n",
        "      <td> 47.765000</td>\n",
        "      <td> 29.745000</td>\n",
        "      <td> 1.903720</td>\n",
        "      <td> 0.709724</td>\n",
        "    </tr>\n",
        "    <tr>\n",
        "      <th>75%</th>\n",
        "      <td> 11.000000</td>\n",
        "      <td> 2.052320</td>\n",
        "      <td> 263.116477</td>\n",
        "      <td> 6.855132</td>\n",
        "      <td> 2.785453</td>\n",
        "      <td> 53.472500</td>\n",
        "      <td> 33.545000</td>\n",
        "      <td> 1.924992</td>\n",
        "      <td> 0.718969</td>\n",
        "    </tr>\n",
        "    <tr>\n",
        "      <th>max</th>\n",
        "      <td> 12.000000</td>\n",
        "      <td> 2.074907</td>\n",
        "      <td> 309.000000</td>\n",
        "      <td> 6.966967</td>\n",
        "      <td> 2.909919</td>\n",
        "      <td> 65.740000</td>\n",
        "      <td> 40.940000</td>\n",
        "      <td> 1.941180</td>\n",
        "      <td> 0.729916</td>\n",
        "    </tr>\n",
        "  </tbody>\n",
        "</table>\n",
        "</div>"
       ],
       "metadata": {},
       "output_type": "pyout",
       "prompt_number": 507,
       "text": [
        "       total_blogs  total_word_count  avg_word_count  unique_word_count  \\\n",
        "count     8.000000          8.000000        8.000000           8.000000   \n",
        "mean      9.750000          2.032634      224.550284           6.687845   \n",
        "std       2.251983          0.029366       52.011589           0.214174   \n",
        "min       5.000000          1.991673      152.200000           6.403574   \n",
        "25%       9.500000          2.017431      192.518182           6.518050   \n",
        "50%      10.500000          2.033435      213.295455           6.711012   \n",
        "75%      11.000000          2.052320      263.116477           6.855132   \n",
        "max      12.000000          2.074907      309.000000           6.966967   \n",
        "\n",
        "       lexical_richness  collectivist_percentage  individualist_percentage  \\\n",
        "count          8.000000                 8.000000                  8.000000   \n",
        "mean           2.592879                48.767500                 30.493750   \n",
        "std            0.234348                10.924083                  6.987082   \n",
        "min            2.261272                33.810000                 21.060000   \n",
        "25%            2.474867                41.537500                 25.865000   \n",
        "50%            2.525959                47.765000                 29.745000   \n",
        "75%            2.785453                53.472500                 33.545000   \n",
        "max            2.909919                65.740000                 40.940000   \n",
        "\n",
        "       log_unique_word_count  log_total_word_count  \n",
        "count               8.000000              8.000000  \n",
        "mean                1.899841              0.709241  \n",
        "std                 0.032112              0.014467  \n",
        "min                 1.856856              0.688975  \n",
        "25%                 1.874540              0.701802  \n",
        "50%                 1.903720              0.709724  \n",
        "75%                 1.924992              0.718969  \n",
        "max                 1.941180              0.729916  "
       ]
      }
     ],
     "prompt_number": 507
    },
    {
     "cell_type": "code",
     "collapsed": false,
     "input": [
      "print plt.scatter(df.unique_word_count, df.collectivist_percentage)\n"
     ],
     "language": "python",
     "metadata": {},
     "outputs": [
      {
       "output_type": "stream",
       "stream": "stdout",
       "text": [
        "<matplotlib.collections.PathCollection object at 0x141325b10>\n"
       ]
      },
      {
       "metadata": {},
       "output_type": "display_data",
       "png": "[encoded data removed]",
       "text": [
        "<matplotlib.figure.Figure at 0x14139dd50>"
       ]
      }
     ],
     "prompt_number": 516
    },
    {
     "cell_type": "code",
     "collapsed": false,
     "input": [
      "print plt.scatter(df.unique_word_count, df.individualist_percentage)"
     ],
     "language": "python",
     "metadata": {},
     "outputs": [
      {
       "output_type": "stream",
       "stream": "stdout",
       "text": [
        "<matplotlib.collections.PathCollection object at 0x14160f850>\n"
       ]
      },
      {
       "metadata": {},
       "output_type": "display_data",
       "png": "[encoded data removed]",
       "text": [
        "<matplotlib.figure.Figure at 0x142a4a390>"
       ]
      }
     ],
     "prompt_number": 515
    },
    {
     "cell_type": "code",
     "collapsed": false,
     "input": [],
     "language": "python",
     "metadata": {},
     "outputs": []
    },
    {
     "cell_type": "code",
     "collapsed": false,
     "input": [],
     "language": "python",
     "metadata": {},
     "outputs": []
    },
    {
     "cell_type": "code",
     "collapsed": false,
     "input": [],
     "language": "python",
     "metadata": {},
     "outputs": []
    },
    {
     "cell_type": "code",
     "collapsed": false,
     "input": [],
     "language": "python",
     "metadata": {},
     "outputs": []
    },
    {
     "cell_type": "code",
     "collapsed": false,
     "input": [],
     "language": "python",
     "metadata": {},
     "outputs": []
    },
    {
     "cell_type": "code",
     "collapsed": false,
     "input": [],
     "language": "python",
     "metadata": {},
     "outputs": []
    },
    {
     "cell_type": "code",
     "collapsed": false,
     "input": [],
     "language": "python",
     "metadata": {},
     "outputs": [],
     "prompt_number": 128
    },
    {
     "cell_type": "markdown",
     "metadata": {},
     "source": [
      "#Sentiment Analysis and Classifying Text"
     ]
    },
    {
     "cell_type": "markdown",
     "metadata": {},
     "source": [
      "Below I will be going over transforming text into feature dictionaries and training a text classifier to perform text analysis.\n",
      "\n",
      "Initially we have a blob of text, which is categorized as a \"str\". A string contains text between two quotation marks. eg (\"This is a string.\") \n",
      "\n",
      "The string is then divided into individual words (tokens) using word_tokenize function and the type becomes a list. eg ['This','is','a','list'] We're almost there. \n",
      "\n",
      "NLTK requires a dictionary of the tokenized words to do text analysis. We use the bag of words model to create a dictionary. "
     ]
    },
    {
     "cell_type": "code",
     "collapsed": false,
     "input": [
      "from nltk import word_tokenize\n",
      "import nltk\n",
      "from nltk.corpus import movie_reviews\n",
      "import collections"
     ],
     "language": "python",
     "metadata": {},
     "outputs": [],
     "prompt_number": 307
    },
    {
     "cell_type": "markdown",
     "metadata": {},
     "source": [
      "\n",
      "\"The idea is to convert a list of words into a dict, where each word becomes a key with the value True.\n",
      "\n",
      "The resulting dict is known as a bag of words because the words are not in order, and it doesn't matter where in the list of words they occurred, or how many times they occurred. All that matters is that the word is found at least once.\n",
      "\n",
      "You can use different values than True, but it is important to keep in mind that the NLTK classifiers learn from the unique combination of (key, value). That means that ('fox', 1) is treated as a different feature than ('fox', 2).\n",
      "\n",
      "The bag_of_words() function is a very simple list comprehension that constructs a dict from the given words, where every word gets the value True.\n",
      "\n",
      "Since we have to assign a value to each word in order to create a dict, True is a logical choice for the value to indicate word presence. If we knew the universe of all possible words, we could assign the value False to all the words that are not in the given list of words. But most of the time, we don't know all the possible words beforehand. Plus, the dict that would result from assigning False to every possible word would be very large (assuming all words in the English language are possible). So instead, to keep feature extraction simple and use less memory, we stick to assigning the value True to all words that occur at least once. We don't assign the value False to any word since we don't know what the set of possible words are; we only know about the words we are given.\"(Jacob Perkins)"
     ]
    },
    {
     "cell_type": "code",
     "collapsed": false,
     "input": [
      "def bag_of_words(words):\n",
      "    return dict([(word, True) for word in words])"
     ],
     "language": "python",
     "metadata": {},
     "outputs": [],
     "prompt_number": 308
    },
    {
     "cell_type": "markdown",
     "metadata": {},
     "source": [
      "\"Now that we can extract features from text, we can train a classifier. The easiest classifier to get started with is the NaiveBayesClassifier class. It uses the Bayes theorem to predict the probability that a given feature set belongs to a particular label.\""
     ]
    },
    {
     "cell_type": "code",
     "collapsed": false,
     "input": [
      "#\"For training, we need to first create a list of labeled feature sets. This list should be of the form [(featureset, label)], where the featureset variable is a dict and label is the known class label for the featureset. The label_feats_from_corpus() function in featx.py takes a corpus, such as movie_reviews, and a feature_detector function, which defaults to bag_of_words. It then constructs and returns a mapping of the form {label: [featureset]}. We can use this mapping to create a list of labeled training instances and testing instances. The reason to do it this way is to get a fair sample from each label. It is important to get a fair sample, because parts of the corpus may be (unintentionally) biased towards one label or the other. Getting a fair sample should eliminate this possible bias:\"\n",
      "\n",
      "def label_feats_from_corpus(corp, feature_detector=bag_of_words):\n",
      "  label_feats = collections.defaultdict(list)\n",
      "  for label in corp.categories():\n",
      "    for fileid in corp.fileids(categories=[label]):\n",
      "      feats = feature_detector(corp.words(fileids=[fileid]))\n",
      "      label_feats[label].append(feats)\n",
      "  return label_feats\n",
      "\n",
      "#\"Once we can get a mapping of label | feature sets, we want to construct a list of labeled training instances and testing instances. The split_label_feats() function in featx.py takes a mapping returned from label_feats_from_corpus() and splits each list of feature sets into labeled training and testing instances:\"\n",
      "    \n",
      "def split_label_feats(lfeats, split=0.75):\n",
      "  train_feats = []\n",
      "  test_feats = []\n",
      "  for label, feats in lfeats.items():\n",
      "    cutoff = int(len(feats) * split)\n",
      "    train_feats.extend([(feat, label) for feat in feats[:cutoff]])\n",
      "    test_feats.extend([(feat, label) for feat in feats[cutoff:]])\n",
      "  return train_feats, test_feats"
     ],
     "language": "python",
     "metadata": {},
     "outputs": [],
     "prompt_number": 309
    },
    {
     "cell_type": "markdown",
     "metadata": {},
     "source": [
      "\"We are going to be using the movie_reviews corpus for our initial classification. This corpus contains two categories of text: pos and neg. These categories are exclusive, which makes a classifier trained on them a binary classifier. Binary classifiers have only two classification labels, and will always choose one or the other.\n",
      "\n",
      "Each file in the movie_reviews corpus is composed of either positive or negative movie reviews. We will be using each file as a single instance for both training and testing the classifier. Because of the nature of the text and its categories, the classification we will be doing is a form of sentiment analysis. If the classifier returns pos, then the text expresses a positive sentiment, whereas if we get neg, then the text expresses a negative sentiment.\""
     ]
    },
    {
     "cell_type": "code",
     "collapsed": false,
     "input": [
      "lfeats = label_feats_from_corpus(movie_reviews)\n",
      "lfeats.keys()"
     ],
     "language": "python",
     "metadata": {},
     "outputs": [
      {
       "metadata": {},
       "output_type": "pyout",
       "prompt_number": 310,
       "text": [
        "[u'neg', u'pos']"
       ]
      }
     ],
     "prompt_number": 310
    },
    {
     "cell_type": "markdown",
     "metadata": {},
     "source": [
      "\"Using these functions with the movie_reviews corpus gives us the lists of labeled feature sets we need to train and test a classifier:\""
     ]
    },
    {
     "cell_type": "markdown",
     "metadata": {},
     "source": [
      "\"Now we can train a NaiveBayesClassifier class using its train() class method:\""
     ]
    },
    {
     "cell_type": "code",
     "collapsed": false,
     "input": [
      "train_feats, test_feats = split_label_feats(lfeats, split=.75)\n",
      "len(train_feats)"
     ],
     "language": "python",
     "metadata": {},
     "outputs": [
      {
       "metadata": {},
       "output_type": "pyout",
       "prompt_number": 311,
       "text": [
        "1500"
       ]
      }
     ],
     "prompt_number": 311
    },
    {
     "cell_type": "code",
     "collapsed": false,
     "input": [
      "from nltk.classify import NaiveBayesClassifier\n",
      "nb_classifier = NaiveBayesClassifier.train(train_feats)\n",
      "nb_classifier.labels()"
     ],
     "language": "python",
     "metadata": {},
     "outputs": [
      {
       "metadata": {},
       "output_type": "pyout",
       "prompt_number": 312,
       "text": [
        "[u'neg', u'pos']"
       ]
      }
     ],
     "prompt_number": 312
    },
    {
     "cell_type": "markdown",
     "metadata": {},
     "source": [
      "Determing the sentiment analysis for each blog. It appears that the larger the blog, aka more words, the better the sentiment. I got a negative sentiment tag for a blog that was 3 sentences and on the face of it very positive. check text16"
     ]
    },
    {
     "cell_type": "code",
     "collapsed": false,
     "input": [
      "blog_sentiment = BeautifulSoup(text13).get_text()\n",
      "blog_sentiment = word_tokenize(blog_sentiment)\n",
      "blog_sentiment = bag_of_words(blog_sentiment)\n",
      "\n",
      "probs = nb_classifier.prob_classify(blog_sentiment)\n",
      "\n",
      "probs.prob('pos')"
     ],
     "language": "python",
     "metadata": {},
     "outputs": [
      {
       "metadata": {},
       "output_type": "pyout",
       "prompt_number": 460,
       "text": [
        "0.999999998332083"
       ]
      }
     ],
     "prompt_number": 460
    },
    {
     "cell_type": "markdown",
     "metadata": {},
     "source": [
      "Below type any string and test how it performs. Typically the classifier is very good at determing whether the text is positive or negative. However, as the text increases so does the chance of the text being classified as positive. "
     ]
    },
    {
     "cell_type": "code",
     "collapsed": false,
     "input": [
      "type_string = (\"the internet is awesome. lots of cool people\")"
     ],
     "language": "python",
     "metadata": {},
     "outputs": [],
     "prompt_number": 327
    },
    {
     "cell_type": "code",
     "collapsed": false,
     "input": [
      "type_string = word_tokenize(type_string)"
     ],
     "language": "python",
     "metadata": {},
     "outputs": [],
     "prompt_number": 328
    },
    {
     "cell_type": "code",
     "collapsed": true,
     "input": [
      "type_string = bag_of_words(type_string)"
     ],
     "language": "python",
     "metadata": {},
     "outputs": [],
     "prompt_number": 329
    },
    {
     "cell_type": "code",
     "collapsed": false,
     "input": [
      "nb_classifier.classify(type_string)"
     ],
     "language": "python",
     "metadata": {},
     "outputs": [
      {
       "metadata": {},
       "output_type": "pyout",
       "prompt_number": 330,
       "text": [
        "u'pos'"
       ]
      }
     ],
     "prompt_number": 330
    },
    {
     "cell_type": "code",
     "collapsed": false,
     "input": [
      "probs = nb_classifier.prob_classify(type_string)\n",
      "\n",
      "probs.prob('neg')*100"
     ],
     "language": "python",
     "metadata": {},
     "outputs": [
      {
       "metadata": {},
       "output_type": "pyout",
       "prompt_number": 333,
       "text": [
        "17.161884702439856"
       ]
      }
     ],
     "prompt_number": 333
    },
    {
     "cell_type": "markdown",
     "metadata": {},
     "source": [
      "\"We can test the accuracy of the classifier using nltk.classify.util.accuracy() and the test_feats variable created previously:\""
     ]
    },
    {
     "cell_type": "code",
     "collapsed": false,
     "input": [
      "from nltk.classify.util import accuracy\n",
      "accuracy(nb_classifier, test_feats)"
     ],
     "language": "python",
     "metadata": {},
     "outputs": [
      {
       "metadata": {},
       "output_type": "pyout",
       "prompt_number": 146,
       "text": [
        "0.728"
       ]
      }
     ],
     "prompt_number": 146
    },
    {
     "cell_type": "code",
     "collapsed": false,
     "input": [
      "from nltk.probability import LaplaceProbDist\n",
      "nb_classifier = NaiveBayesClassifier.train(train_feats, estimator=LaplaceProbDist)\n",
      "accuracy(nb_classifier, test_feats)"
     ],
     "language": "python",
     "metadata": {},
     "outputs": [
      {
       "metadata": {},
       "output_type": "pyout",
       "prompt_number": 147,
       "text": [
        "0.716"
       ]
      }
     ],
     "prompt_number": 147
    },
    {
     "cell_type": "markdown",
     "metadata": {},
     "source": [
      "#Manually Classify the text"
     ]
    },
    {
     "cell_type": "code",
     "collapsed": false,
     "input": [
      "from nltk.probability import DictionaryProbDist\n",
      "label_probdist = DictionaryProbDist({'pos': 0.5, 'neg': 0.5})\n",
      "true_probdist = DictionaryProbDist({True: 1})\n",
      "feature_probdist = {('pos', 'yes', 'cool', 'great'): true_probdist, ('neg', 'no', 'weak', 'bad'): true_probdist}\n",
      "classifier = NaiveBayesClassifier(label_probdist, feature_probdist)\n",
      "classifier.classify({'cool': True})"
     ],
     "language": "python",
     "metadata": {},
     "outputs": [
      {
       "metadata": {},
       "output_type": "pyout",
       "prompt_number": 148,
       "text": [
        "'pos'"
       ]
      }
     ],
     "prompt_number": 148
    },
    {
     "cell_type": "code",
     "collapsed": false,
     "input": [
      "sentence = ('neg no weak')\n",
      "sentence_1 = word_tokenize(sentence)\n",
      "sentence_1 = bag_of_words(sentence_1)"
     ],
     "language": "python",
     "metadata": {},
     "outputs": [],
     "prompt_number": 149
    },
    {
     "cell_type": "code",
     "collapsed": false,
     "input": [
      "classifier.classify(sentence_1)"
     ],
     "language": "python",
     "metadata": {},
     "outputs": [
      {
       "metadata": {},
       "output_type": "pyout",
       "prompt_number": 150,
       "text": [
        "'pos'"
       ]
      }
     ],
     "prompt_number": 150
    },
    {
     "cell_type": "code",
     "collapsed": false,
     "input": [
      "probs = nb_classifier.prob_classify(sentence_1)\n",
      "\n",
      "probs.prob('pos')"
     ],
     "language": "python",
     "metadata": {},
     "outputs": [
      {
       "metadata": {},
       "output_type": "pyout",
       "prompt_number": 151,
       "text": [
        "0.3501432664756444"
       ]
      }
     ],
     "prompt_number": 151
    },
    {
     "cell_type": "markdown",
     "metadata": {},
     "source": [
      "#Below is an adjective dictionary with sentiment values assigned. It requires more words for it to be more effective at classifying the text as negative or positive. \n",
      "\n",
      "In order to optimize it, I would have to add more adjectives and assign sentiment to each one. "
     ]
    },
    {
     "cell_type": "code",
     "collapsed": false,
     "input": [
      "adjective_list = {'industrial': 0, 'excessive': -1, 'gratuitous': 1, 'chaotic': -1, 'national': 1, 'young': 1, \n",
      "                  'yellow': 0, 'high': 1, 'middle': 0, 'likely': 1, 'economic': 0, 'creative': 1, 'open': 1, \n",
      "                  'physical': 0, 'symbiotic': 1, 'legal': 1, 'next': 1, 'genetic': 0, 'angry': -1, 'strong': 1,\n",
      "                  'peaceful': 1, 'new': 1, 'widespread': 1, 'real': 1, 'good': 1, 'normal': 0, 'successful': 1, 'big': 1, \n",
      "                  'basic': -1, 'hate': -1, 'private': -1, 'front': 0, 'central': 0, 'comfortable': 1, 'last': 0,\n",
      "                  'helpful': 1, 'third': 0, 'many': 1, 'clear': 1, 'proud': 1, 'brutal': -1, 'large': 1, 'dirty': -1,\n",
      "                  'professional': 1, 'first': 0, 'dont': 0, 'fuck': -1, 'it': 0, 'up': 0, 'and': 0, 'the': 0, 'smooth': 0,\n",
      "                  'it': 0, 'just': 0, 'drops': 0, 'like': 1, 'more': 1, 'thought':1, 'locked':1, 'macked':1, 'hardcore':1, \n",
      "                  'believed':1, 'down':1,\n",
      "                  }"
     ],
     "language": "python",
     "metadata": {},
     "outputs": [],
     "prompt_number": 266
    },
    {
     "cell_type": "markdown",
     "metadata": {},
     "source": [
      "####This is a the function that helps me classify the text using the above dictionay."
     ]
    },
    {
     "cell_type": "code",
     "collapsed": false,
     "input": [
      "def measure_sentiment(words):\n",
      "    sent = []\n",
      "    for i in words:\n",
      "        if i in adjective_list.keys():\n",
      "            sent.append(adjective_list[i])\n",
      "    if sent:\n",
      "        return sum(sent) / len(sent)\n",
      "    else:\n",
      "        return 0"
     ],
     "language": "python",
     "metadata": {},
     "outputs": [],
     "prompt_number": 267
    },
    {
     "cell_type": "markdown",
     "metadata": {},
     "source": [
      "####As you see this is a weak measure, however it could be improved. My time is precious right now in finishing this project and I do intend to return to it later. I'm pretty sure there's an automatic way to assign sentiment to the tokenized words. Obviously it could be done manually. Right now, finishing the project is the more important goal."
     ]
    },
    {
     "cell_type": "code",
     "collapsed": false,
     "input": [
      "sentence = \"locked macked hardcore just\"\n",
      "sentence = word_tokenize(sentence)"
     ],
     "language": "python",
     "metadata": {},
     "outputs": [],
     "prompt_number": 273
    },
    {
     "cell_type": "code",
     "collapsed": false,
     "input": [
      "measure_sentiment(sentence)"
     ],
     "language": "python",
     "metadata": {},
     "outputs": [
      {
       "metadata": {},
       "output_type": "pyout",
       "prompt_number": 274,
       "text": [
        "0.75"
       ]
      }
     ],
     "prompt_number": 274
    },
    {
     "cell_type": "markdown",
     "metadata": {},
     "source": [
      "####I use this function to identify the adjectives. The adjectives are then transferred into the adjective dictionary above and their sentiment is evaluated"
     ]
    },
    {
     "cell_type": "code",
     "collapsed": true,
     "input": [
      "from nltk.tag import DefaultTagger\n",
      "default_tagger = DefaultTagger('JJ')\n",
      "sent = default_tagger.tag(all_blogs_text)\n"
     ],
     "language": "python",
     "metadata": {},
     "outputs": [],
     "prompt_number": 290
    },
    {
     "cell_type": "code",
     "collapsed": false,
     "input": [
      "#filtering out words that are 2 or less characters long\n",
      "blog = all_blogs_text\n",
      "counter_list = []\n",
      "for i in blog:\n",
      "    if len(i) > 2:\n",
      "        counter_list.append(i)"
     ],
     "language": "python",
     "metadata": {},
     "outputs": [],
     "prompt_number": 299
    },
    {
     "cell_type": "code",
     "collapsed": false,
     "input": [
      "adjective_list = {'industrial': 0, 'excessive': -1, 'gratuitous': 1, 'chaotic': -1, 'national': 1, 'young': 1, \n",
      "                  'yellow': 0, 'high': 1, 'middle': 0, 'likely': 1, 'economic': 0, 'creative': 1, 'open': 1, \n",
      "                  'physical': 0, 'symbiotic': 1, 'legal': 1, 'next': 1, 'genetic': 0, 'angry': -1, 'strong': 1,\n",
      "                  'peaceful': 1, 'new': 1, 'widespread': 1, 'real': 1, 'good': 1, 'normal': 0, 'successful': 1, 'big': 1, \n",
      "                  'basic': -1, 'hate': -1, 'private': -1, 'front': 0, 'central': 0, 'comfortable': 1, 'last': 0,\n",
      "                  'helpful': 1, 'third': 0, 'many': 1, 'clear': 1, 'proud': 1, 'brutal': -1, 'large': 1, 'dirty': -1,\n",
      "                  'professional': 1, 'first': 0, 'dont': 0, 'fuck': -1, 'it': 0, 'up': 0, 'and': 0, 'the': 0, 'smooth': 0,\n",
      "                  'it': 0, 'just': 0, 'drops': 0, 'like': 1, 'more': 1, 'thought':1, 'locked':1, 'macked':1, 'hardcore':1, \n",
      "                  'believed':1, 'down':1, 'love':1,'life':1,'yes':1, 'soul':1,'fuck':-1,'smile':1,'sweet':1,'bliss':1,\n",
      "                  'lost':-1,'cant':-1,'passion':1,'bliss':1, 'bitches':-1,\n",
      "                  }"
     ],
     "language": "python",
     "metadata": {},
     "outputs": [],
     "prompt_number": 301
    },
    {
     "cell_type": "code",
     "collapsed": false,
     "input": [
      "from collections import Counter\n",
      "\n",
      "cap_words = [word.upper() for word in counter_list]\n",
      "\n",
      "word_counts = Counter(cap_words)\n",
      "\n",
      "print (word_counts.most_common(n=10))"
     ],
     "language": "python",
     "metadata": {},
     "outputs": [
      {
       "output_type": "stream",
       "stream": "stdout",
       "text": [
        "[('THE', 817), ('AND', 569), ('YOU', 224), ('THIS', 207), ('THAT', 196), ('WITH', 182), ('FOR', 174), ('YOUR', 140), ('OUR', 135), ('ALL', 112)]\n"
       ]
      }
     ],
     "prompt_number": 305
    },
    {
     "cell_type": "code",
     "collapsed": false,
     "input": [],
     "language": "python",
     "metadata": {},
     "outputs": []
    },
    {
     "cell_type": "code",
     "collapsed": false,
     "input": [],
     "language": "python",
     "metadata": {},
     "outputs": []
    },
    {
     "cell_type": "code",
     "collapsed": false,
     "input": [],
     "language": "python",
     "metadata": {},
     "outputs": []
    },
    {
     "cell_type": "code",
     "collapsed": false,
     "input": [],
     "language": "python",
     "metadata": {},
     "outputs": []
    },
    {
     "cell_type": "code",
     "collapsed": false,
     "input": [],
     "language": "python",
     "metadata": {},
     "outputs": []
    },
    {
     "cell_type": "code",
     "collapsed": false,
     "input": [],
     "language": "python",
     "metadata": {},
     "outputs": []
    },
    {
     "cell_type": "code",
     "collapsed": false,
     "input": [],
     "language": "python",
     "metadata": {},
     "outputs": []
    },
    {
     "cell_type": "code",
     "collapsed": false,
     "input": [],
     "language": "python",
     "metadata": {},
     "outputs": []
    },
    {
     "cell_type": "code",
     "collapsed": false,
     "input": [],
     "language": "python",
     "metadata": {},
     "outputs": []
    },
    {
     "cell_type": "code",
     "collapsed": false,
     "input": [],
     "language": "python",
     "metadata": {},
     "outputs": []
    },
    {
     "cell_type": "code",
     "collapsed": false,
     "input": [],
     "language": "python",
     "metadata": {},
     "outputs": []
    },
    {
     "cell_type": "code",
     "collapsed": false,
     "input": [],
     "language": "python",
     "metadata": {},
     "outputs": []
    },
    {
     "cell_type": "markdown",
     "metadata": {},
     "source": [
      "###Check list:\n",
      "\n",
      "do positive tagging on all_blogs, eventually divided it by year and o pos tag by year. \n",
      "\n",
      "define the range of mood in the blog. then find the mood of the blogs for each year.\n",
      "\n",
      "create a dictionary of el's most popular words\n",
      "\n",
      "write up an analysis and work through creating a pdf file of the work for client facing notebook"
     ]
    },
    {
     "cell_type": "code",
     "collapsed": false,
     "input": [],
     "language": "python",
     "metadata": {},
     "outputs": []
    },
    {
     "cell_type": "code",
     "collapsed": false,
     "input": [],
     "language": "python",
     "metadata": {},
     "outputs": []
    },
    {
     "cell_type": "code",
     "collapsed": false,
     "input": [],
     "language": "python",
     "metadata": {},
     "outputs": []
    },
    {
     "cell_type": "code",
     "collapsed": false,
     "input": [],
     "language": "python",
     "metadata": {},
     "outputs": []
    },
    {
     "cell_type": "code",
     "collapsed": false,
     "input": [],
     "language": "python",
     "metadata": {},
     "outputs": []
    },
    {
     "cell_type": "code",
     "collapsed": false,
     "input": [
      "el_dict = {\n",
      "    \"bo-diddly-dum-dum-darum\": [\"gibberish\", \"awesome\", \"ridiculousness\", \"amazing\"],\n",
      "    \"simplyawesome\": [\"impressive\",\"awesome\",\"exciting\",\"extraordinary\",\"thrilling\"],\n",
      "    \"self-expression\": [\"articulation\"],\n",
      "    \"balllllllin\": [\"character\"],\n",
      "    \"basketballist\": [\"best\", \"player\"],\n",
      "    \"stylistically\": [\"technically\"]\n",
      "}\n",
      "\n",
      "\n",
      "\n",
      "\n",
      "'Stylistically'\n",
      "'balllllllin'\n",
      "'basketballist'\n",
      "'best-tongued'\n",
      "'blessedness'\n",
      "'breathlessness'\n",
      "'buttercrunch'\n",
      "'brushstrokes'\n",
      "'clusterfuck'\n",
      "'candlelight'\n",
      "'cunning-linguists'\n",
      "'deepestmost'\n",
      "'disjointedly'\n",
      "'dumbfounded'\n",
      "'effervescent'\n",
      "'enthralling'\n",
      "'fingerpainted'\n",
      "'french-kiss'\n",
      "'golden-fated'\n",
      "'fruitlessly'\n",
      "'forlornsmile'\n",
      "'happy-go-lucky'\n",
      "'inconceivably'\n",
      "'intoxication'\n",
      "'love-filled'\n",
      "'pillowthoughts'\n",
      "'plasteredly'\n",
      "'pseudosmoothly'\n",
      "'rhythmsofasoul'\n",
      "'soulstumbling'\n",
      "'tempest-tost'"
     ],
     "language": "python",
     "metadata": {},
     "outputs": []
    },
    {
     "cell_type": "code",
     "collapsed": false,
     "input": [],
     "language": "python",
     "metadata": {},
     "outputs": []
    },
    {
     "cell_type": "code",
     "collapsed": false,
     "input": [],
     "language": "python",
     "metadata": {},
     "outputs": []
    },
    {
     "cell_type": "code",
     "collapsed": false,
     "input": [],
     "language": "python",
     "metadata": {},
     "outputs": []
    },
    {
     "cell_type": "code",
     "collapsed": false,
     "input": [],
     "language": "python",
     "metadata": {},
     "outputs": []
    },
    {
     "cell_type": "code",
     "collapsed": false,
     "input": [],
     "language": "python",
     "metadata": {},
     "outputs": []
    },
    {
     "cell_type": "code",
     "collapsed": false,
     "input": [],
     "language": "python",
     "metadata": {},
     "outputs": []
    },
    {
     "cell_type": "markdown",
     "metadata": {},
     "source": [
      "#Manually Figuring Out Random Text Generation"
     ]
    },
    {
     "cell_type": "code",
     "collapsed": false,
     "input": [
      "import markovgen\n",
      "import random\n",
      " \n",
      "class Markov(object):\n",
      "\n",
      "        def file_to_words(self):\n",
      "                self.open_file.seek(0)\n",
      "                data = self.open_file.read()\n",
      "                words = data.split()\n",
      "                return words    \n",
      "        \n",
      "        \n",
      "        def __init__(self, open_file):\n",
      "                self.cache = {}\n",
      "                self.open_file = open_file\n",
      "                self.words = self.file_to_words()\n",
      "                self.word_size = len(self.words)\n",
      "                self.database()\n",
      "                \n",
      "        \n",
      "        def file_to_words(self):\n",
      "                self.open_file.seek(0)\n",
      "                data = self.open_file.read()\n",
      "                words = data.split()\n",
      "                return words\n",
      "                \n",
      "        \n",
      "        def triples(self):\n",
      "                \"\"\" Generates triples from the given data string. So if our string were\n",
      "                                \"What a lovely day\", we'd generate (What, a, lovely) and then\n",
      "                                (a, lovely, day).\n",
      "                \"\"\"\n",
      "                \n",
      "                if len(self.words) < 3:\n",
      "                        return\n",
      "                \n",
      "                for i in range(len(self.words) - 2):\n",
      "                        yield (self.words[i], self.words[i+1], self.words[i+2])\n",
      "                        \n",
      "        def database(self):\n",
      "                for w1, w2, w3 in self.triples():\n",
      "                        key = (w1, w2)\n",
      "                        if key in self.cache:\n",
      "                                self.cache[key].append(w3)\n",
      "                        else:\n",
      "                                self.cache[key] = [w3]\n",
      "                                \n",
      "        def generate_markov_text(self, size=80):\n",
      "                seed = random.randint(0, self.word_size-3)\n",
      "                seed_word, next_word = self.words[seed], self.words[seed+1]\n",
      "                w1, w2 = seed_word, next_word\n",
      "                gen_words = []\n",
      "                for i in xrange(size):\n",
      "                        gen_words.append(w1)\n",
      "                        w1, w2 = w2, random.choice(self.cache[(w1, w2)])\n",
      "                gen_words.append(w2)\n",
      "                return ' '.join(gen_words)"
     ],
     "language": "python",
     "metadata": {},
     "outputs": [],
     "prompt_number": 440
    },
    {
     "cell_type": "code",
     "collapsed": false,
     "input": [
      "blog_2014 = open('/Users/olehdubno/Desktop/blog_2014.txt')"
     ],
     "language": "python",
     "metadata": {},
     "outputs": [],
     "prompt_number": 441
    },
    {
     "cell_type": "code",
     "collapsed": false,
     "input": [
      "blog_2014 = Markov(blog_2014)"
     ],
     "language": "python",
     "metadata": {},
     "outputs": [],
     "prompt_number": 443
    },
    {
     "cell_type": "code",
     "collapsed": false,
     "input": [
      "blog_2014.generate_markov_text()"
     ],
     "language": "python",
     "metadata": {},
     "outputs": [
      {
       "metadata": {},
       "output_type": "pyout",
       "prompt_number": 585,
       "text": [
        "'was perfect from the bless of all that is around you. It is a mountain, a desert, a stone, a view, a breath, a humble road a path less traveled by the soft touch of her fingertips as they trace a place called god along the cinders of my soul guiding this thing that we brought our eyes to our souls, our gifts to the sky and the sound of our lives and how the mornings would fill empty lines of'"
       ]
      }
     ],
     "prompt_number": 585
    },
    {
     "cell_type": "heading",
     "level": 4,
     "metadata": {},
     "source": []
    }
   ],
   "metadata": {}
  }
 ]
}